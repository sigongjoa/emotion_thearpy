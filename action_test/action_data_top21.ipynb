{
 "cells": [
  {
   "cell_type": "code",
   "execution_count": 1,
   "id": "f9de8f64",
   "metadata": {},
   "outputs": [
    {
     "name": "stderr",
     "output_type": "stream",
     "text": [
      "Some weights of the model checkpoint at kykim/bert-kor-base were not used when initializing BertModel: ['cls.seq_relationship.bias', 'cls.predictions.bias', 'cls.predictions.transform.LayerNorm.bias', 'cls.seq_relationship.weight', 'cls.predictions.decoder.bias', 'cls.predictions.transform.LayerNorm.weight', 'cls.predictions.decoder.weight', 'cls.predictions.transform.dense.bias', 'cls.predictions.transform.dense.weight']\n",
      "- This IS expected if you are initializing BertModel from the checkpoint of a model trained on another task or with another architecture (e.g. initializing a BertForSequenceClassification model from a BertForPreTraining model).\n",
      "- This IS NOT expected if you are initializing BertModel from the checkpoint of a model that you expect to be exactly identical (initializing a BertForSequenceClassification model from a BertForSequenceClassification model).\n"
     ]
    }
   ],
   "source": [
    "import platform\n",
    "import warnings\n",
    "import collections\n",
    "import numpy as np\n",
    "import pandas as pd\n",
    "import seaborn as sns\n",
    "import matplotlib.pyplot as plt\n",
    "from konlpy.tag import Okt\n",
    "from bert_sim import word_sim\n",
    "from matplotlib import rc\n",
    "from gensim.models import Word2Vec\n",
    "\n",
    "warnings.filterwarnings(action='ignore')\n"
   ]
  },
  {
   "cell_type": "code",
   "execution_count": 2,
   "id": "4c0e9dfa",
   "metadata": {},
   "outputs": [],
   "source": [
    "class check_data():\n",
    "    def __init__(self,df):\n",
    "        self.df = df\n",
    "        self.wiki_model = Word2Vec.load('../ko/ko.bin')\n",
    "        if platform.system() == 'Windows':\n",
    "            self.font = 'Malgun Gothic'\n",
    "        else:\n",
    "            self.font = 'NanumGothic'\n",
    "\n",
    "        self.eff = self.df.columns[1]\n",
    "        self.df[f'{self.eff}_Morps'] = self.df[self.eff].map(lambda x: self.getMorps(x))\n",
    "        self.df[f'{self.eff}_NV'] = self.df[f'{self.eff}_Morps'].map(lambda x: self.getNV(x))\n",
    "        self.df[f'{self.eff}_N'] = self.df[f'{self.eff}_Morps'].map(lambda x: self.getN(x))\n",
    "  \n",
    "    def topn(self,n):\n",
    "        self.df[f'{self.eff}_count_topn_NV']  = self.df[f'{self.eff}_NV'].map(lambda x: self.counter(x,n)) \n",
    "        self.df[f'{self.eff}_count_topn_N']  = self.df['{self.eff}_N'].map(lambda x: self.counter(x,n)) \n",
    "\n",
    "    def getMorps(self,sent):\n",
    "        return Okt().pos(sent , norm=False , stem = True) \n",
    "\n",
    "    def getNV(self, morps):\n",
    "        stop_words = \"하다 것 등 수 그 이 더욱 대해 예 머 매 내 수도 무엇 모든 이다 때 곧 식 또한 좀 꼭 번 해 과 바로 더욱 논 보이 난 \"\n",
    "        stop_words = set(stop_words.split(' '))\n",
    "\n",
    "        result = []\n",
    "        for item , morp in morps:\n",
    "            if morp == 'Verb' or morp == 'Noun': \n",
    "                result.append(item)\n",
    "        s_result = []\n",
    "        \n",
    "        for word in result:\n",
    "            if word not in stop_words:\n",
    "                s_result.append(word)\n",
    "        return s_result\n",
    "    \n",
    "    def getN(self, morps):\n",
    "        stop_words = \"하다 것 등 수 그 이 더욱 대해 예 머 매 내 수도 무엇 모든 이다 때 곧 식 또한 좀 꼭 번 해 과 바로 더욱 논 보이 난 \"\n",
    "\n",
    "        stop_words = set(stop_words.split(' '))\n",
    "\n",
    "        result = []\n",
    "        for item , morp in morps:\n",
    "            if morp == 'Noun': \n",
    "                result.append(item)\n",
    "        s_result = []\n",
    "        \n",
    "        for word in result:\n",
    "            if word not in stop_words:\n",
    "                s_result.append(word)\n",
    "        s_result = np.unique(s_result)\n",
    "        return s_result\n",
    "\n",
    "    def counter(self,sents, n):\n",
    "        return sorted(collections.Counter(sents),reverse=True)[0:n]\n",
    "\n",
    "    def get_heatmap(self, idx,figsize):\n",
    "        energy = ['정열', '활기', '기력', '생기', '활발','--']\n",
    "        recovery = ['낫' , '치료', '휴식' ,'극복' , '재활', '--']\n",
    "        cycle = ['운반', '유지', '조절' , '공급' ,'생명', '--']\n",
    "        pury = ['진정' , '맑' , '없애' , '깨끗', '해소', '--']        \n",
    "        all_dims = energy + recovery + cycle + pury\n",
    "        #effs_dims_name = ['에너지', '회복', '순환', '정화']\n",
    "\n",
    "        plt.rc('font', family=self.font)\n",
    "        sents = self.df[f'{self.eff}_NV'][idx]\n",
    "        \n",
    "        result = []\n",
    "        for word in sents:\n",
    "            sub = []\n",
    "            for dim_word in all_dims:\n",
    "                try:\n",
    "                    sub.append(self.wiki_model.wv.similarity(dim_word , word))\n",
    "                except:\n",
    "                    sub.append(0)\n",
    "            result.append(sub)\n",
    "        act_name = self.df['action'][idx]\n",
    "        fig = plt.figure(figsize=figsize)\n",
    "        fig.set_facecolor('white')\n",
    "        plt.title(f'{act_name}에서 단어들간의 유사도 확인')\n",
    "        sns.heatmap(result,annot=True)\n",
    "        plt.xticks(np.arange(len(all_dims)),all_dims)\n",
    "        plt.yticks(np.arange(len(sents)),sents)\n",
    "        plt.show()\n",
    "        \n",
    "    def getDF(self):\n",
    "        self.df.to_csv('data.csv')\n",
    "        return self.df\n",
    "\n",
    "    def result(self,idx, top , dis):\n",
    "        energy = ['정열', '활기', '기력', '생기', '활발']\n",
    "        recovery = ['낫' , '치료', '휴식' ,'극복' , '재활']\n",
    "        cycle = ['운반', '유지', '조절' , '공급' ,'생명']\n",
    "        pury = ['진정' , '맑' , '없애' , '깨끗', '해소']        \n",
    "        effs_dims =  [energy, recovery, cycle , pury]\n",
    "        effs_dims_name = ['에너지', '회복', '순환', '정화']\n",
    "        sNV = self.df[f'{self.eff}_NV'][idx]\n",
    "\n",
    "        result = []\n",
    "        for dim in effs_dims:\n",
    "            ab = []\n",
    "            for sim_word in dim:\n",
    "                sub = []\n",
    "                for word in sNV:\n",
    "                    try:\n",
    "                        sub.append(word_sim(sim_word , word))\n",
    "                    except:\n",
    "                        sub.append(0)\n",
    "                ab.append(sub)\n",
    "                aab = np.array(ab).flatten().tolist()\n",
    "            aab = np.array(sorted(aab,reverse=True))[:top].mean()\n",
    "            result.append(aab)\n",
    "            \n",
    "\n",
    "        if dis == True:\n",
    "            from matplotlib import rc\n",
    "            plt.rc('font', family=self.font)\n",
    "\n",
    "            word = self.df.iloc[idx][0]\n",
    "\n",
    "            plt.figure()\n",
    "            plt.bar(np.arange(len(result)),result)\n",
    "            plt.title(f'{word}\\'s mapping for top {top} using 유사어')\n",
    "            plt.xticks(np.arange(len(effs_dims_name)), effs_dims_name)\n",
    "            plt.yticks(np.arange(0,1.1,0.1))\n",
    "            plt.show()\n",
    "        print(result)\n",
    "        return result\n",
    "\n",
    "    def todf(self, topn, file_name):\n",
    "        ret_df  = pd.DataFrame(columns=['감정','에너지','회복','순환','정화'])\n",
    "        em = []\n",
    "        est_e= []\n",
    "        est_h= []\n",
    "        est_c= []\n",
    "        est_p= []\n",
    "        \n",
    "        for idx in self.df.index:\n",
    "            em.append(self.df['action'][idx])\n",
    "            est = self.result(idx,topn,False)\n",
    "            est_e.append(est[0])        \n",
    "            est_h.append(est[1])        \n",
    "            est_c.append(est[2])        \n",
    "            est_p.append(est[3])\n",
    "        ret_df['감정'] = em        \n",
    "        ret_df['에너지'] = est_e\n",
    "        ret_df['회복'] = est_h\n",
    "        ret_df['순환'] = est_c\n",
    "        ret_df['정화'] = est_p\n",
    "        \n",
    "        ret_df.to_csv(file_name,index=False)\n",
    "        return ret_df"
   ]
  },
  {
   "cell_type": "code",
   "execution_count": 3,
   "id": "883e3323",
   "metadata": {},
   "outputs": [
    {
     "data": {
      "text/html": [
       "<div>\n",
       "<style scoped>\n",
       "    .dataframe tbody tr th:only-of-type {\n",
       "        vertical-align: middle;\n",
       "    }\n",
       "\n",
       "    .dataframe tbody tr th {\n",
       "        vertical-align: top;\n",
       "    }\n",
       "\n",
       "    .dataframe thead th {\n",
       "        text-align: right;\n",
       "    }\n",
       "</style>\n",
       "<table border=\"1\" class=\"dataframe\">\n",
       "  <thead>\n",
       "    <tr style=\"text-align: right;\">\n",
       "      <th></th>\n",
       "      <th>action</th>\n",
       "      <th>효능</th>\n",
       "    </tr>\n",
       "  </thead>\n",
       "  <tbody>\n",
       "    <tr>\n",
       "      <th>0</th>\n",
       "      <td>명상</td>\n",
       "      <td>마음 긍정 정신 안정 휴식</td>\n",
       "    </tr>\n",
       "    <tr>\n",
       "      <th>1</th>\n",
       "      <td>산책</td>\n",
       "      <td>기분 소화 예방 창의 해소</td>\n",
       "    </tr>\n",
       "    <tr>\n",
       "      <th>2</th>\n",
       "      <td>등산</td>\n",
       "      <td>근력 호흡 면역 강화 체중</td>\n",
       "    </tr>\n",
       "    <tr>\n",
       "      <th>3</th>\n",
       "      <td>샤워</td>\n",
       "      <td>피부 순환 배출 수면 활력</td>\n",
       "    </tr>\n",
       "    <tr>\n",
       "      <th>4</th>\n",
       "      <td>수영</td>\n",
       "      <td>근력 지구력 운동 재활 수면</td>\n",
       "    </tr>\n",
       "    <tr>\n",
       "      <th>5</th>\n",
       "      <td>조깅</td>\n",
       "      <td>관리 호흡 체중 면역 활력</td>\n",
       "    </tr>\n",
       "    <tr>\n",
       "      <th>6</th>\n",
       "      <td>자전거 타기</td>\n",
       "      <td>하체 체중 관절 근력 활력</td>\n",
       "    </tr>\n",
       "    <tr>\n",
       "      <th>7</th>\n",
       "      <td>요가</td>\n",
       "      <td>유연 균형 호흡 자세 안정</td>\n",
       "    </tr>\n",
       "    <tr>\n",
       "      <th>8</th>\n",
       "      <td>스트레칭</td>\n",
       "      <td>방지 회복 이완 탄력 균형</td>\n",
       "    </tr>\n",
       "    <tr>\n",
       "      <th>9</th>\n",
       "      <td>여행</td>\n",
       "      <td>활력 해방 교류 도전 기분</td>\n",
       "    </tr>\n",
       "  </tbody>\n",
       "</table>\n",
       "</div>"
      ],
      "text/plain": [
       "   action               효능\n",
       "0      명상   마음 긍정 정신 안정 휴식\n",
       "1      산책   기분 소화 예방 창의 해소\n",
       "2      등산   근력 호흡 면역 강화 체중\n",
       "3      샤워   피부 순환 배출 수면 활력\n",
       "4      수영  근력 지구력 운동 재활 수면\n",
       "5      조깅   관리 호흡 체중 면역 활력\n",
       "6  자전거 타기   하체 체중 관절 근력 활력\n",
       "7      요가   유연 균형 호흡 자세 안정\n",
       "8    스트레칭   방지 회복 이완 탄력 균형\n",
       "9      여행   활력 해방 교류 도전 기분"
      ]
     },
     "execution_count": 3,
     "metadata": {},
     "output_type": "execute_result"
    }
   ],
   "source": [
    "# 행동 데이터 확인\n",
    "dir = \"../data/action_keyword_data.csv\"\n",
    "data = pd.read_csv(dir)\n",
    "data"
   ]
  },
  {
   "cell_type": "code",
   "execution_count": 4,
   "id": "5bab0593",
   "metadata": {},
   "outputs": [
    {
     "data": {
      "image/png": "[encoded data removed]",
      "text/plain": [
       "<Figure size 432x288 with 1 Axes>"
      ]
     },
     "metadata": {
      "needs_background": "light"
     },
     "output_type": "display_data"
    },
    {
     "name": "stdout",
     "output_type": "stream",
     "text": [
      "[0.6840299907184783, 0.7166310463632856, 0.7024638652801514, 0.7072541089284987]\n"
     ]
    },
    {
     "data": {
      "image/png": "[encoded data removed]",
      "text/plain": [
       "<Figure size 432x288 with 1 Axes>"
      ]
     },
     "metadata": {
      "needs_background": "light"
     },
     "output_type": "display_data"
    },
    {
     "name": "stdout",
     "output_type": "stream",
     "text": [
      "[0.6760612357230413, 0.6996371235166278, 0.6955029027802604, 0.7158599297205607]\n"
     ]
    },
    {
     "data": {
      "image/png": "[encoded data removed]",
      "text/plain": [
       "<Figure size 432x288 with 1 Axes>"
      ]
     },
     "metadata": {
      "needs_background": "light"
     },
     "output_type": "display_data"
    },
    {
     "name": "stdout",
     "output_type": "stream",
     "text": [
      "[0.6637869448888869, 0.7018660278547377, 0.6829426203455243, 0.6857645312945048]\n"
     ]
    },
    {
     "data": {
      "image/png": "[encoded data removed]",
      "text/plain": [
       "<Figure size 432x288 with 1 Axes>"
      ]
     },
     "metadata": {
      "needs_background": "light"
     },
     "output_type": "display_data"
    },
    {
     "name": "stdout",
     "output_type": "stream",
     "text": [
      "[0.6834051268441337, 0.7183405586651394, 0.7081474832126072, 0.7202366278285072]\n"
     ]
    },
    {
     "data": {
      "image/png": "[encoded data removed]",
      "text/plain": [
       "<Figure size 432x288 with 1 Axes>"
      ]
     },
     "metadata": {
      "needs_background": "light"
     },
     "output_type": "display_data"
    },
    {
     "name": "stdout",
     "output_type": "stream",
     "text": [
      "[0.6691390247572035, 0.7149669102260044, 0.6578058572042556, 0.6789950728416443]\n"
     ]
    },
    {
     "data": {
      "image/png": "[encoded data removed]",
      "text/plain": [
       "<Figure size 432x288 with 1 Axes>"
      ]
     },
     "metadata": {
      "needs_background": "light"
     },
     "output_type": "display_data"
    },
    {
     "name": "stdout",
     "output_type": "stream",
     "text": [
      "[0.6613454307828631, 0.7079796138263884, 0.6962575373195466, 0.6908843488920302]\n"
     ]
    },
    {
     "data": {
      "image/png": "[encoded data removed]",
      "text/plain": [
       "<Figure size 432x288 with 1 Axes>"
      ]
     },
     "metadata": {
      "needs_background": "light"
     },
     "output_type": "display_data"
    },
    {
     "name": "stdout",
     "output_type": "stream",
     "text": [
      "[0.6620855331420898, 0.7140670674187797, 0.7023228633971441, 0.6960916206950233]\n"
     ]
    },
    {
     "data": {
      "image/png": "[encoded data removed]",
      "text/plain": [
       "<Figure size 432x288 with 1 Axes>"
      ]
     },
     "metadata": {
      "needs_background": "light"
     },
     "output_type": "display_data"
    },
    {
     "name": "stdout",
     "output_type": "stream",
     "text": [
      "[0.6856337445122855, 0.6971255767913092, 0.737068460101173, 0.7075762493269784]\n"
     ]
    },
    {
     "data": {
      "image/png": "[encoded data removed]",
      "text/plain": [
       "<Figure size 432x288 with 1 Axes>"
      ]
     },
     "metadata": {
      "needs_background": "light"
     },
     "output_type": "display_data"
    },
    {
     "name": "stdout",
     "output_type": "stream",
     "text": [
      "[0.7125165320578075, 0.7257816791534424, 0.7457422528948102, 0.7336000289235797]\n"
     ]
    },
    {
     "data": {
      "image/png": "[encoded data removed]",
      "text/plain": [
       "<Figure size 432x288 with 1 Axes>"
      ]
     },
     "metadata": {
      "needs_background": "light"
     },
     "output_type": "display_data"
    },
    {
     "name": "stdout",
     "output_type": "stream",
     "text": [
      "[0.6380630305835179, 0.661310286748977, 0.6674984182630267, 0.6650887245223636]\n"
     ]
    }
   ],
   "source": [
    "XYZ = check_data(data)\n",
    "for i in data.index:\n",
    "    XYZ.result(i,21,True)\n",
    "    "
   ]
  },
  {
   "cell_type": "code",
   "execution_count": null,
   "metadata": {},
   "outputs": [],
   "source": []
  }
 ],
 "metadata": {
  "interpreter": {
   "hash": "29452f6d2151aa2870314585b3e91bb7a8843450c46b48401a824fa318bf3597"
  },
  "kernelspec": {
   "display_name": "Python 3.9.7 ('base')",
   "language": "python",
   "name": "python3"
  },
  "language_info": {
   "codemirror_mode": {
    "name": "ipython",
    "version": 3
   },
   "file_extension": ".py",
   "mimetype": "text/x-python",
   "name": "python",
   "nbconvert_exporter": "python",
   "pygments_lexer": "ipython3",
   "version": "3.9.7"
  },
  "orig_nbformat": 4
 },
 "nbformat": 4,
 "nbformat_minor": 2
}
