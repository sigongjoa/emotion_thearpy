{
 "cells": [
  {
   "cell_type": "code",
   "execution_count": 69,
   "metadata": {},
   "outputs": [],
   "source": [
    "import numpy as np\n",
    "import pandas as pd\n",
    "\n",
    "color_est = pd.read_csv(\"../data/color2emotion_rescaling.csv\",index_col = False)\n",
    "emotion_est = pd.read_csv(\"../result/emotion_estimation_hand_craft.csv\")\n",
    "action_est = pd.read_csv(\"../result/action_estimation.csv\")"
   ]
  },
  {
   "cell_type": "code",
   "execution_count": 70,
   "metadata": {},
   "outputs": [],
   "source": [
    "#color_est"
   ]
  },
  {
   "cell_type": "code",
   "execution_count": 71,
   "metadata": {},
   "outputs": [
    {
     "data": {
      "text/html": [
       "<div>\n",
       "<style scoped>\n",
       "    .dataframe tbody tr th:only-of-type {\n",
       "        vertical-align: middle;\n",
       "    }\n",
       "\n",
       "    .dataframe tbody tr th {\n",
       "        vertical-align: top;\n",
       "    }\n",
       "\n",
       "    .dataframe thead th {\n",
       "        text-align: right;\n",
       "    }\n",
       "</style>\n",
       "<table border=\"1\" class=\"dataframe\">\n",
       "  <thead>\n",
       "    <tr style=\"text-align: right;\">\n",
       "      <th></th>\n",
       "      <th>감정</th>\n",
       "      <th>에너지</th>\n",
       "      <th>회복</th>\n",
       "      <th>순환</th>\n",
       "      <th>정화</th>\n",
       "    </tr>\n",
       "  </thead>\n",
       "  <tbody>\n",
       "    <tr>\n",
       "      <th>0</th>\n",
       "      <td>행복</td>\n",
       "      <td>0.300379</td>\n",
       "      <td>0.469413</td>\n",
       "      <td>0.287386</td>\n",
       "      <td>0.282726</td>\n",
       "    </tr>\n",
       "    <tr>\n",
       "      <th>1</th>\n",
       "      <td>열정</td>\n",
       "      <td>1.000000</td>\n",
       "      <td>0.598599</td>\n",
       "      <td>0.395890</td>\n",
       "      <td>0.400756</td>\n",
       "    </tr>\n",
       "    <tr>\n",
       "      <th>2</th>\n",
       "      <td>두려움</td>\n",
       "      <td>0.140877</td>\n",
       "      <td>0.477591</td>\n",
       "      <td>0.057623</td>\n",
       "      <td>0.300837</td>\n",
       "    </tr>\n",
       "    <tr>\n",
       "      <th>3</th>\n",
       "      <td>분노</td>\n",
       "      <td>0.364110</td>\n",
       "      <td>0.405571</td>\n",
       "      <td>0.323333</td>\n",
       "      <td>0.367194</td>\n",
       "    </tr>\n",
       "    <tr>\n",
       "      <th>4</th>\n",
       "      <td>우울</td>\n",
       "      <td>0.341376</td>\n",
       "      <td>1.000000</td>\n",
       "      <td>0.250951</td>\n",
       "      <td>0.360276</td>\n",
       "    </tr>\n",
       "    <tr>\n",
       "      <th>5</th>\n",
       "      <td>슬픔</td>\n",
       "      <td>0.191463</td>\n",
       "      <td>0.461462</td>\n",
       "      <td>0.185052</td>\n",
       "      <td>0.320086</td>\n",
       "    </tr>\n",
       "  </tbody>\n",
       "</table>\n",
       "</div>"
      ],
      "text/plain": [
       "    감정       에너지        회복        순환        정화\n",
       "0   행복  0.300379  0.469413  0.287386  0.282726\n",
       "1   열정  1.000000  0.598599  0.395890  0.400756\n",
       "2  두려움  0.140877  0.477591  0.057623  0.300837\n",
       "3   분노  0.364110  0.405571  0.323333  0.367194\n",
       "4   우울  0.341376  1.000000  0.250951  0.360276\n",
       "5   슬픔  0.191463  0.461462  0.185052  0.320086"
      ]
     },
     "execution_count": 71,
     "metadata": {},
     "output_type": "execute_result"
    }
   ],
   "source": [
    "emotion_est\n"
   ]
  },
  {
   "cell_type": "code",
   "execution_count": 72,
   "metadata": {},
   "outputs": [
    {
     "data": {
      "text/html": [
       "<div>\n",
       "<style scoped>\n",
       "    .dataframe tbody tr th:only-of-type {\n",
       "        vertical-align: middle;\n",
       "    }\n",
       "\n",
       "    .dataframe tbody tr th {\n",
       "        vertical-align: top;\n",
       "    }\n",
       "\n",
       "    .dataframe thead th {\n",
       "        text-align: right;\n",
       "    }\n",
       "</style>\n",
       "<table border=\"1\" class=\"dataframe\">\n",
       "  <thead>\n",
       "    <tr style=\"text-align: right;\">\n",
       "      <th></th>\n",
       "      <th>감정</th>\n",
       "      <th>에너지</th>\n",
       "      <th>회복</th>\n",
       "      <th>순환</th>\n",
       "      <th>정화</th>\n",
       "    </tr>\n",
       "  </thead>\n",
       "  <tbody>\n",
       "    <tr>\n",
       "      <th>0</th>\n",
       "      <td>명상</td>\n",
       "      <td>0.400750</td>\n",
       "      <td>0.455728</td>\n",
       "      <td>0.589044</td>\n",
       "      <td>0.325155</td>\n",
       "    </tr>\n",
       "    <tr>\n",
       "      <th>1</th>\n",
       "      <td>운동</td>\n",
       "      <td>0.364873</td>\n",
       "      <td>0.483403</td>\n",
       "      <td>0.383764</td>\n",
       "      <td>0.324081</td>\n",
       "    </tr>\n",
       "    <tr>\n",
       "      <th>2</th>\n",
       "      <td>산책</td>\n",
       "      <td>0.320345</td>\n",
       "      <td>0.461215</td>\n",
       "      <td>0.271852</td>\n",
       "      <td>0.328704</td>\n",
       "    </tr>\n",
       "    <tr>\n",
       "      <th>3</th>\n",
       "      <td>수면</td>\n",
       "      <td>0.281741</td>\n",
       "      <td>0.407013</td>\n",
       "      <td>0.238239</td>\n",
       "      <td>0.359288</td>\n",
       "    </tr>\n",
       "    <tr>\n",
       "      <th>4</th>\n",
       "      <td>독서</td>\n",
       "      <td>0.326346</td>\n",
       "      <td>0.485431</td>\n",
       "      <td>0.260725</td>\n",
       "      <td>0.255343</td>\n",
       "    </tr>\n",
       "  </tbody>\n",
       "</table>\n",
       "</div>"
      ],
      "text/plain": [
       "   감정       에너지        회복        순환        정화\n",
       "0  명상  0.400750  0.455728  0.589044  0.325155\n",
       "1  운동  0.364873  0.483403  0.383764  0.324081\n",
       "2  산책  0.320345  0.461215  0.271852  0.328704\n",
       "3  수면  0.281741  0.407013  0.238239  0.359288\n",
       "4  독서  0.326346  0.485431  0.260725  0.255343"
      ]
     },
     "execution_count": 72,
     "metadata": {},
     "output_type": "execute_result"
    }
   ],
   "source": [
    "action_est"
   ]
  },
  {
   "cell_type": "code",
   "execution_count": 73,
   "metadata": {},
   "outputs": [],
   "source": [
    "# 감정 -> 효능 <- 해동 시나리오\n",
    "class emotion2item():\n",
    "    def __init__(self ,action_df, emotion_df):\n",
    "        self.action_df = action_df\n",
    "        self.emothon_df = emotion_df\n",
    "             \n",
    "        \n",
    "    def sim_item(self, em_idx):\n",
    "        em_name , * em_est = self.emothon_df.iloc[em_idx].tolist()\n",
    "        em_est = np.array(em_est)\n",
    "        MAE_dict = {}\n",
    "        for idx in self.action_df.index:\n",
    "            act_name , *act_est = self.action_df.iloc[idx]\n",
    "            act_est = np.array(act_est)\n",
    "            MAE = np.mean(np.abs(em_est - act_est))\n",
    "            \n",
    "            MAE_dict[act_name] = MAE\n",
    "            \n",
    "            print(f'{em_name}과 {act_name}의 MAE : {MAE}')\n",
    "        \n",
    "        sorted_dict = sorted(MAE_dict.items(), key= lambda x:x[1])\n",
    "        print(\"-\"*20)\n",
    "        print('{}에서 가장 유사한 item은 {}'.format(em_name,sorted_dict[0][0]))    \n",
    "            \n",
    "    def max_item(self, em_idx, n):\n",
    "        em_name , * em_est = self.emothon_df.iloc[em_idx].tolist()\n",
    "        em_est = np.array(em_est)\n",
    "        print(em_name,em_est)\n",
    "\n",
    "    def complete_item(self, em_idx, n):\n",
    "        pass"
   ]
  },
  {
   "cell_type": "code",
   "execution_count": 74,
   "metadata": {},
   "outputs": [
    {
     "name": "stdout",
     "output_type": "stream",
     "text": [
      "행복과 명상의 MAE : 0.11453574895858767\n",
      "행복과 운동의 MAE : 0.05405441919962567\n",
      "행복과 산책의 MAE : 0.022419507304827377\n",
      "행복과 수면의 MAE : 0.05168657253185907\n",
      "행복과 독서의 MAE : 0.024007445822159454\n",
      "--------------------\n",
      "행복에서 가장 유사한 item은 산책\n",
      "\n",
      "\n",
      "열정과 명상의 MAE : 0.25271882116794586\n",
      "열정과 운동의 MAE : 0.20978081723054248\n",
      "열정과 산책의 MAE : 0.2532823234796524\n",
      "열정과 수면의 MAE : 0.2772409841418267\n",
      "열정과 독서의 MAE : 0.2668498965601126\n",
      "--------------------\n",
      "열정에서 가장 유사한 item은 운동\n",
      "\n",
      "\n",
      "두려움과 명상의 MAE : 0.20936867408454418\n",
      "두려움과 운동의 MAE : 0.1447985252986352\n",
      "두려움과 산책의 MAE : 0.10948498360812665\n",
      "두려움과 수면의 MAE : 0.11262693069875239\n",
      "두려움과 독서의 MAE : 0.11047627218067646\n",
      "--------------------\n",
      "두려움에서 가장 유사한 item은 산책\n",
      "\n",
      "\n",
      "분노과 명상의 MAE : 0.0986365601420403\n",
      "분노과 운동의 MAE : 0.04553483178218208\n",
      "분노과 산책의 MAE : 0.04734467715024948\n",
      "분노과 수면의 MAE : 0.04420273005962373\n",
      "분노과 독서의 MAE : 0.0730207102994124\n",
      "--------------------\n",
      "분노에서 가장 유사한 item은 수면\n",
      "\n",
      "\n",
      "우울과 명상의 MAE : 0.24421456456184387\n",
      "우울과 운동의 MAE : 0.1772751708825429\n",
      "우울과 산책의 MAE : 0.1530719747145971\n",
      "우울과 수면의 MAE : 0.16658060997724533\n",
      "우울과 독서의 MAE : 0.16107608750462532\n",
      "--------------------\n",
      "우울에서 가장 유사한 item은 산책\n",
      "\n",
      "\n"
     ]
    }
   ],
   "source": [
    "XYZ = emotion2item(action_est, emotion_est)\n",
    "for i in range(0,5):\n",
    "    XYZ.sim_item(i)\n",
    "    print('\\n')\n"
   ]
  },
  {
   "cell_type": "code",
   "execution_count": 75,
   "metadata": {},
   "outputs": [
    {
     "name": "stdout",
     "output_type": "stream",
     "text": [
      "행복과 명상의 MAE : 0.11453574895858767\n",
      "행복과 운동의 MAE : 0.05405441919962567\n",
      "행복과 산책의 MAE : 0.022419507304827377\n",
      "행복과 수면의 MAE : 0.05168657253185907\n",
      "행복과 독서의 MAE : 0.024007445822159454\n",
      "--------------------\n",
      "행복에서 가장 유사한 item은 산책\n"
     ]
    }
   ],
   "source": [
    "hXYZ = emotion2item(action_est, emotion_est)\n",
    "hXYZ.sim_item(0)"
   ]
  },
  {
   "cell_type": "code",
   "execution_count": null,
   "metadata": {},
   "outputs": [],
   "source": []
  }
 ],
 "metadata": {
  "interpreter": {
   "hash": "29452f6d2151aa2870314585b3e91bb7a8843450c46b48401a824fa318bf3597"
  },
  "kernelspec": {
   "display_name": "Python 3.9.7 ('base')",
   "language": "python",
   "name": "python3"
  },
  "language_info": {
   "codemirror_mode": {
    "name": "ipython",
    "version": 3
   },
   "file_extension": ".py",
   "mimetype": "text/x-python",
   "name": "python",
   "nbconvert_exporter": "python",
   "pygments_lexer": "ipython3",
   "version": "3.9.7"
  },
  "orig_nbformat": 4
 },
 "nbformat": 4,
 "nbformat_minor": 2
}
