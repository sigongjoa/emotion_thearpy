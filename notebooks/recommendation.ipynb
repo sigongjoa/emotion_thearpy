{
 "cells": [
  {
   "cell_type": "code",
   "execution_count": 1,
   "metadata": {},
   "outputs": [],
   "source": [
    "import numpy as np\n",
    "import pandas as pd\n",
    "\n",
    "color_est = pd.read_csv(\"../data/color2emotion_rescaling.csv\",index_col = False)\n",
    "emotion_est = pd.read_csv(\"../result/emotion_estimation_hand_craft.csv\")\n",
    "action_est = pd.read_csv(\"../result/action_estimation.csv\")"
   ]
  },
  {
   "cell_type": "code",
   "execution_count": 2,
   "metadata": {},
   "outputs": [],
   "source": [
    "#color_est"
   ]
  },
  {
   "cell_type": "code",
   "execution_count": 3,
   "metadata": {},
   "outputs": [
    {
     "data": {
      "text/html": [
       "<div>\n",
       "<style scoped>\n",
       "    .dataframe tbody tr th:only-of-type {\n",
       "        vertical-align: middle;\n",
       "    }\n",
       "\n",
       "    .dataframe tbody tr th {\n",
       "        vertical-align: top;\n",
       "    }\n",
       "\n",
       "    .dataframe thead th {\n",
       "        text-align: right;\n",
       "    }\n",
       "</style>\n",
       "<table border=\"1\" class=\"dataframe\">\n",
       "  <thead>\n",
       "    <tr style=\"text-align: right;\">\n",
       "      <th></th>\n",
       "      <th>감정</th>\n",
       "      <th>에너지</th>\n",
       "      <th>회복</th>\n",
       "      <th>순환</th>\n",
       "      <th>정화</th>\n",
       "    </tr>\n",
       "  </thead>\n",
       "  <tbody>\n",
       "    <tr>\n",
       "      <th>0</th>\n",
       "      <td>행복</td>\n",
       "      <td>0.096577</td>\n",
       "      <td>0.205271</td>\n",
       "      <td>0.084743</td>\n",
       "      <td>0.154127</td>\n",
       "    </tr>\n",
       "    <tr>\n",
       "      <th>1</th>\n",
       "      <td>열정</td>\n",
       "      <td>0.411770</td>\n",
       "      <td>0.417962</td>\n",
       "      <td>0.277941</td>\n",
       "      <td>0.317782</td>\n",
       "    </tr>\n",
       "    <tr>\n",
       "      <th>2</th>\n",
       "      <td>두려움</td>\n",
       "      <td>0.064625</td>\n",
       "      <td>0.127702</td>\n",
       "      <td>0.021283</td>\n",
       "      <td>0.112353</td>\n",
       "    </tr>\n",
       "    <tr>\n",
       "      <th>3</th>\n",
       "      <td>분노</td>\n",
       "      <td>0.246015</td>\n",
       "      <td>0.288097</td>\n",
       "      <td>0.199031</td>\n",
       "      <td>0.265908</td>\n",
       "    </tr>\n",
       "    <tr>\n",
       "      <th>4</th>\n",
       "      <td>우울</td>\n",
       "      <td>0.144277</td>\n",
       "      <td>0.259323</td>\n",
       "      <td>0.124939</td>\n",
       "      <td>0.132359</td>\n",
       "    </tr>\n",
       "    <tr>\n",
       "      <th>5</th>\n",
       "      <td>슬픔</td>\n",
       "      <td>0.126782</td>\n",
       "      <td>0.238345</td>\n",
       "      <td>0.068066</td>\n",
       "      <td>0.202515</td>\n",
       "    </tr>\n",
       "  </tbody>\n",
       "</table>\n",
       "</div>"
      ],
      "text/plain": [
       "    감정       에너지        회복        순환        정화\n",
       "0   행복  0.096577  0.205271  0.084743  0.154127\n",
       "1   열정  0.411770  0.417962  0.277941  0.317782\n",
       "2  두려움  0.064625  0.127702  0.021283  0.112353\n",
       "3   분노  0.246015  0.288097  0.199031  0.265908\n",
       "4   우울  0.144277  0.259323  0.124939  0.132359\n",
       "5   슬픔  0.126782  0.238345  0.068066  0.202515"
      ]
     },
     "execution_count": 3,
     "metadata": {},
     "output_type": "execute_result"
    }
   ],
   "source": [
    "emotion_est\n"
   ]
  },
  {
   "cell_type": "code",
   "execution_count": 4,
   "metadata": {},
   "outputs": [
    {
     "data": {
      "text/html": [
       "<div>\n",
       "<style scoped>\n",
       "    .dataframe tbody tr th:only-of-type {\n",
       "        vertical-align: middle;\n",
       "    }\n",
       "\n",
       "    .dataframe tbody tr th {\n",
       "        vertical-align: top;\n",
       "    }\n",
       "\n",
       "    .dataframe thead th {\n",
       "        text-align: right;\n",
       "    }\n",
       "</style>\n",
       "<table border=\"1\" class=\"dataframe\">\n",
       "  <thead>\n",
       "    <tr style=\"text-align: right;\">\n",
       "      <th></th>\n",
       "      <th>감정</th>\n",
       "      <th>에너지</th>\n",
       "      <th>회복</th>\n",
       "      <th>순환</th>\n",
       "      <th>정화</th>\n",
       "    </tr>\n",
       "  </thead>\n",
       "  <tbody>\n",
       "    <tr>\n",
       "      <th>0</th>\n",
       "      <td>명상</td>\n",
       "      <td>0.142931</td>\n",
       "      <td>0.170405</td>\n",
       "      <td>0.227149</td>\n",
       "      <td>0.216091</td>\n",
       "    </tr>\n",
       "    <tr>\n",
       "      <th>1</th>\n",
       "      <td>운동</td>\n",
       "      <td>0.146344</td>\n",
       "      <td>0.134466</td>\n",
       "      <td>0.142635</td>\n",
       "      <td>0.206883</td>\n",
       "    </tr>\n",
       "    <tr>\n",
       "      <th>2</th>\n",
       "      <td>산책</td>\n",
       "      <td>0.138340</td>\n",
       "      <td>0.070666</td>\n",
       "      <td>0.036914</td>\n",
       "      <td>0.184480</td>\n",
       "    </tr>\n",
       "    <tr>\n",
       "      <th>3</th>\n",
       "      <td>수면</td>\n",
       "      <td>0.143820</td>\n",
       "      <td>0.082785</td>\n",
       "      <td>0.128648</td>\n",
       "      <td>0.185543</td>\n",
       "    </tr>\n",
       "    <tr>\n",
       "      <th>4</th>\n",
       "      <td>독서</td>\n",
       "      <td>0.181206</td>\n",
       "      <td>0.096831</td>\n",
       "      <td>0.077269</td>\n",
       "      <td>0.210896</td>\n",
       "    </tr>\n",
       "  </tbody>\n",
       "</table>\n",
       "</div>"
      ],
      "text/plain": [
       "   감정       에너지        회복        순환        정화\n",
       "0  명상  0.142931  0.170405  0.227149  0.216091\n",
       "1  운동  0.146344  0.134466  0.142635  0.206883\n",
       "2  산책  0.138340  0.070666  0.036914  0.184480\n",
       "3  수면  0.143820  0.082785  0.128648  0.185543\n",
       "4  독서  0.181206  0.096831  0.077269  0.210896"
      ]
     },
     "execution_count": 4,
     "metadata": {},
     "output_type": "execute_result"
    }
   ],
   "source": [
    "action_est"
   ]
  },
  {
   "cell_type": "code",
   "execution_count": 65,
   "metadata": {},
   "outputs": [],
   "source": [
    "# 감정 -> 효능 <- 해동 시나리오\n",
    "class emotion2item():\n",
    "    def __init__(self ,action_df, emotion_df):\n",
    "        self.action_df = action_df\n",
    "        self.emothon_df = emotion_df\n",
    "             \n",
    "        \n",
    "    def sim_item(self, em_idx):\n",
    "        em_name , * em_est = self.emothon_df.iloc[em_idx].tolist()\n",
    "        em_est = np.array(em_est)\n",
    "        MAE_dict = {}\n",
    "        for idx in self.action_df.index:\n",
    "            act_name , *act_est = self.action_df.iloc[idx]\n",
    "            act_est = np.array(act_est)\n",
    "            MAE = np.mean(np.abs(em_est - act_est))\n",
    "            \n",
    "            MAE_dict[act_name] = MAE\n",
    "            \n",
    "            print(f'{em_name}과 {act_name}의 MAE : {MAE}')\n",
    "        \n",
    "        sorted_dict = sorted(MAE_dict.items(), key= lambda x:x[1])\n",
    "        print(\"-\"*20)\n",
    "        print('{}에서 가장 유사한 item은 {}'.format(em_name,sorted_dict[0][0]))    \n",
    "            \n",
    "    def max_item(self, em_idx, n):\n",
    "        em_name , * em_est = self.emothon_df.iloc[em_idx].tolist()\n",
    "        em_est = np.array(em_est)\n",
    "        print(em_name,em_est)\n",
    "\n",
    "    def complete_item(self, em_idx, n):\n",
    "        pass"
   ]
  },
  {
   "cell_type": "code",
   "execution_count": 68,
   "metadata": {},
   "outputs": [
    {
     "name": "stdout",
     "output_type": "stream",
     "text": [
      "행복과 명상의 MAE : 0.07139745556438963\n",
      "행복과 운동의 MAE : 0.057805060253789016\n",
      "행복과 산책의 MAE : 0.06363757477245398\n",
      "행복과 수면의 MAE : 0.0612625090094904\n",
      "행복과 독서의 MAE : 0.06432819407847196\n",
      "--------------------\n",
      "행복에서 가장 유사한 item은 운동\n",
      "\n",
      "\n",
      "열정과 명상의 MAE : 0.16721952789359623\n",
      "열정과 운동의 MAE : 0.19878148556583455\n",
      "열정과 산책의 MAE : 0.24876343727939662\n",
      "열정과 수면의 MAE : 0.22116491281323966\n",
      "열정과 독서의 MAE : 0.21481323030052918\n",
      "--------------------\n",
      "열정에서 가장 유사한 item은 명상\n",
      "\n",
      "\n",
      "두려움과 명상의 MAE : 0.1076533085045715\n",
      "두려움과 운동의 MAE : 0.07609135083233315\n",
      "두려움과 산책의 MAE : 0.05462719484542805\n",
      "두려움과 수면의 MAE : 0.07616665943836173\n",
      "두려움과 독서의 MAE : 0.07549530547112226\n",
      "--------------------\n",
      "두려움에서 가장 유사한 item은 산책\n",
      "\n",
      "\n",
      "분노과 명상의 MAE : 0.07467758738332325\n",
      "분노과 운동의 MAE : 0.09218050560189617\n",
      "분노과 산책의 MAE : 0.1421624573154582\n",
      "분노과 수면의 MAE : 0.11456393284930122\n",
      "분노과 독서의 MAE : 0.10821225033659072\n",
      "--------------------\n",
      "분노에서 가장 유사한 item은 명상\n",
      "\n",
      "\n",
      "우울과 명상의 MAE : 0.06905143109283282\n",
      "우울과 운동의 MAE : 0.05478571457344862\n",
      "우울과 산책의 MAE : 0.08368499936269866\n",
      "우울과 수면의 MAE : 0.0584720425041659\n",
      "우울과 독서의 MAE : 0.0814070417989223\n",
      "--------------------\n",
      "우울에서 가장 유사한 item은 운동\n",
      "\n",
      "\n"
     ]
    }
   ],
   "source": [
    "XYZ = emotion2item(action_est, emotion_est)\n",
    "for i in range(0,5):\n",
    "    XYZ.sim_item(i)\n",
    "    print('\\n')\n"
   ]
  },
  {
   "cell_type": "code",
   "execution_count": 8,
   "metadata": {},
   "outputs": [
    {
     "name": "stdout",
     "output_type": "stream",
     "text": [
      "0.07139745556438963\n",
      "0.057805060253789016\n",
      "0.06363757477245398\n",
      "0.0612625090094904\n",
      "0.06432819407847196\n"
     ]
    }
   ],
   "source": [
    "hXYZ = emotion2item(action_est, emotion_est)\n",
    "hXYZ.sim_item(0)"
   ]
  },
  {
   "cell_type": "code",
   "execution_count": null,
   "metadata": {},
   "outputs": [],
   "source": []
  }
 ],
 "metadata": {
  "interpreter": {
   "hash": "29452f6d2151aa2870314585b3e91bb7a8843450c46b48401a824fa318bf3597"
  },
  "kernelspec": {
   "display_name": "Python 3.9.7 ('base')",
   "language": "python",
   "name": "python3"
  },
  "language_info": {
   "codemirror_mode": {
    "name": "ipython",
    "version": 3
   },
   "file_extension": ".py",
   "mimetype": "text/x-python",
   "name": "python",
   "nbconvert_exporter": "python",
   "pygments_lexer": "ipython3",
   "version": "3.9.7"
  },
  "orig_nbformat": 4
 },
 "nbformat": 4,
 "nbformat_minor": 2
}
