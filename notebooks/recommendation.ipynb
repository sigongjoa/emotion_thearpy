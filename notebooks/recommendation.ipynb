{
 "cells": [
  {
   "cell_type": "code",
   "execution_count": 13,
   "metadata": {},
   "outputs": [],
   "source": [
    "import pandas as pd\n",
    "\n",
    "action_est = pd.read_csv(\"../result/action_estimation.csv\")\n",
    "emotion_est = pd.read_csv(\"../result/emtion_estimation.csv\")"
   ]
  },
  {
   "cell_type": "code",
   "execution_count": 14,
   "metadata": {},
   "outputs": [
    {
     "data": {
      "text/html": [
       "<div>\n",
       "<style scoped>\n",
       "    .dataframe tbody tr th:only-of-type {\n",
       "        vertical-align: middle;\n",
       "    }\n",
       "\n",
       "    .dataframe tbody tr th {\n",
       "        vertical-align: top;\n",
       "    }\n",
       "\n",
       "    .dataframe thead th {\n",
       "        text-align: right;\n",
       "    }\n",
       "</style>\n",
       "<table border=\"1\" class=\"dataframe\">\n",
       "  <thead>\n",
       "    <tr style=\"text-align: right;\">\n",
       "      <th></th>\n",
       "      <th>action</th>\n",
       "      <th>efficacy</th>\n",
       "    </tr>\n",
       "  </thead>\n",
       "  <tbody>\n",
       "    <tr>\n",
       "      <th>0</th>\n",
       "      <td>명상</td>\n",
       "      <td>[0.14293085, 0.17040543, 0.22714882, 0.21609108]</td>\n",
       "    </tr>\n",
       "    <tr>\n",
       "      <th>1</th>\n",
       "      <td>운동</td>\n",
       "      <td>[0.14634378254413605, 0.13446630785862604, 0.1...</td>\n",
       "    </tr>\n",
       "    <tr>\n",
       "      <th>2</th>\n",
       "      <td>산책</td>\n",
       "      <td>[0.13834033906459808, 0.07066643610596657, 0.0...</td>\n",
       "    </tr>\n",
       "    <tr>\n",
       "      <th>3</th>\n",
       "      <td>수면</td>\n",
       "      <td>[0.14381973445415497, 0.08278455585241318, 0.1...</td>\n",
       "    </tr>\n",
       "    <tr>\n",
       "      <th>4</th>\n",
       "      <td>독서</td>\n",
       "      <td>[0.18120643496513367, 0.09683062881231308, 0.0...</td>\n",
       "    </tr>\n",
       "  </tbody>\n",
       "</table>\n",
       "</div>"
      ],
      "text/plain": [
       "  action                                           efficacy\n",
       "0     명상   [0.14293085, 0.17040543, 0.22714882, 0.21609108]\n",
       "1     운동  [0.14634378254413605, 0.13446630785862604, 0.1...\n",
       "2     산책  [0.13834033906459808, 0.07066643610596657, 0.0...\n",
       "3     수면  [0.14381973445415497, 0.08278455585241318, 0.1...\n",
       "4     독서  [0.18120643496513367, 0.09683062881231308, 0.0..."
      ]
     },
     "execution_count": 14,
     "metadata": {},
     "output_type": "execute_result"
    }
   ],
   "source": [
    "action_est"
   ]
  },
  {
   "cell_type": "code",
   "execution_count": 15,
   "metadata": {},
   "outputs": [
    {
     "data": {
      "text/html": [
       "<div>\n",
       "<style scoped>\n",
       "    .dataframe tbody tr th:only-of-type {\n",
       "        vertical-align: middle;\n",
       "    }\n",
       "\n",
       "    .dataframe tbody tr th {\n",
       "        vertical-align: top;\n",
       "    }\n",
       "\n",
       "    .dataframe thead th {\n",
       "        text-align: right;\n",
       "    }\n",
       "</style>\n",
       "<table border=\"1\" class=\"dataframe\">\n",
       "  <thead>\n",
       "    <tr style=\"text-align: right;\">\n",
       "      <th></th>\n",
       "      <th>감정</th>\n",
       "      <th>추정치</th>\n",
       "    </tr>\n",
       "  </thead>\n",
       "  <tbody>\n",
       "    <tr>\n",
       "      <th>0</th>\n",
       "      <td>행복</td>\n",
       "      <td>[0.5415818492571512, 0.5508736968040466, 0.467...</td>\n",
       "    </tr>\n",
       "    <tr>\n",
       "      <th>1</th>\n",
       "      <td>열정</td>\n",
       "      <td>[0.5338602662086487, 0.6573270757993063, 0.558...</td>\n",
       "    </tr>\n",
       "    <tr>\n",
       "      <th>2</th>\n",
       "      <td>두려움</td>\n",
       "      <td>[0.49721041321754456, 0.7298627297083536, 0.77...</td>\n",
       "    </tr>\n",
       "    <tr>\n",
       "      <th>3</th>\n",
       "      <td>분노</td>\n",
       "      <td>[0.519708514213562, 0.623987098534902, 0.77443...</td>\n",
       "    </tr>\n",
       "    <tr>\n",
       "      <th>4</th>\n",
       "      <td>우울</td>\n",
       "      <td>[0.4931264321009318, 0.6200025081634521, 1.0, ...</td>\n",
       "    </tr>\n",
       "    <tr>\n",
       "      <th>5</th>\n",
       "      <td>슬픔</td>\n",
       "      <td>[0.4928437868754069, 0.6017196377118429, 0.607...</td>\n",
       "    </tr>\n",
       "  </tbody>\n",
       "</table>\n",
       "</div>"
      ],
      "text/plain": [
       "    감정                                                추정치\n",
       "0   행복  [0.5415818492571512, 0.5508736968040466, 0.467...\n",
       "1   열정  [0.5338602662086487, 0.6573270757993063, 0.558...\n",
       "2  두려움  [0.49721041321754456, 0.7298627297083536, 0.77...\n",
       "3   분노  [0.519708514213562, 0.623987098534902, 0.77443...\n",
       "4   우울  [0.4931264321009318, 0.6200025081634521, 1.0, ...\n",
       "5   슬픔  [0.4928437868754069, 0.6017196377118429, 0.607..."
      ]
     },
     "execution_count": 15,
     "metadata": {},
     "output_type": "execute_result"
    }
   ],
   "source": [
    "emotion_est"
   ]
  },
  {
   "cell_type": "code",
   "execution_count": 23,
   "metadata": {},
   "outputs": [
    {
     "data": {
      "text/plain": [
       "str"
      ]
     },
     "execution_count": 23,
     "metadata": {},
     "output_type": "execute_result"
    }
   ],
   "source": [
    "type(emotion_est['추정치'][0])"
   ]
  },
  {
   "cell_type": "code",
   "execution_count": null,
   "metadata": {},
   "outputs": [],
   "source": []
  }
 ],
 "metadata": {
  "interpreter": {
   "hash": "29452f6d2151aa2870314585b3e91bb7a8843450c46b48401a824fa318bf3597"
  },
  "kernelspec": {
   "display_name": "Python 3.9.7 ('base')",
   "language": "python",
   "name": "python3"
  },
  "language_info": {
   "codemirror_mode": {
    "name": "ipython",
    "version": 3
   },
   "file_extension": ".py",
   "mimetype": "text/x-python",
   "name": "python",
   "nbconvert_exporter": "python",
   "pygments_lexer": "ipython3",
   "version": "3.9.7"
  },
  "orig_nbformat": 4
 },
 "nbformat": 4,
 "nbformat_minor": 2
}
