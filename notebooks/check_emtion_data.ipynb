{
 "cells": [
  {
   "cell_type": "code",
   "execution_count": 2,
   "metadata": {},
   "outputs": [],
   "source": [
    "import platform\n",
    "import collections\n",
    "import numpy as np\n",
    "import pandas as pd\n",
    "import seaborn as sns\n",
    "import matplotlib.pyplot as plt\n",
    "from konlpy.tag import Okt\n",
    "from matplotlib import rc\n",
    "from gensim.models import Word2Vec"
   ]
  },
  {
   "cell_type": "code",
   "execution_count": 77,
   "metadata": {},
   "outputs": [],
   "source": [
    "class check_data():\n",
    "    def __init__(self,df):\n",
    "        self.df = df\n",
    "        self.wiki_model = Word2Vec.load('../ko/ko.bin')\n",
    "        if platform.system() == 'Windows':\n",
    "            self.font = 'Malgun Gothic'\n",
    "        else:\n",
    "            self.font = 'NanumGothic'\n",
    "        self.df['therapy_Morps'] = self.df['therapy'].map(lambda x: self.getMorps(x))\n",
    "        self.df['therapy_NV'] = self.df['therapy_Morps'].map(lambda x: self.getNV(x))\n",
    "        self.df['therapy_N'] = self.df['therapy_Morps'].map(lambda x: self.getN(x))\n",
    "  \n",
    "    def topn(self,n):\n",
    "        self.df['therapy_count_topn_NV']  = self.df['therapy_NV'].map(lambda x: self.counter(x,n)) \n",
    "        self.df['therapy_count_topn_N']  = self.df['therapy_N'].map(lambda x: self.counter(x,n)) \n",
    "\n",
    "    def result(self,idx, top , dis):\n",
    "        effs_dims = ['에너지', '회복', '순환', '정화']\n",
    "        sNV = self.df['therapy'][idx].split(\" \")\n",
    "        result = []\n",
    "        for dim in effs_dims:\n",
    "            sub = []\n",
    "            for word in sNV:\n",
    "                try:\n",
    "                    sub.append(self.wiki_model.wv.similarity(dim , word))\n",
    "                except:\n",
    "                    sub.append(0)\n",
    "            tmp = np.sort(sub)[::-1][:top].mean()\n",
    "            result.append(tmp)\n",
    "\n",
    "        \n",
    "        if dis == True:\n",
    "            from matplotlib import rc\n",
    "            plt.rc('font', family=self.font)\n",
    "\n",
    "            word = self.df.iloc[idx][0]\n",
    "            std = np.std(result)\n",
    "            \n",
    "            plt.figure()\n",
    "            plt.bar(np.arange(len(result)),result)\n",
    "            plt.title(f'{word}\\'s mapping for top {top} using 대표어')\n",
    "            plt.xticks(np.arange(len(effs_dims)), effs_dims)\n",
    "            plt.yticks(np.arange(0,1.2,0.2))\n",
    "            plt.show()\n",
    "            print(f'{word}s std is {std}' )\n",
    "        return result\n",
    "        \n",
    "    def getMorps(self,sent):\n",
    "        return Okt().pos(sent , norm=False , stem = True) \n",
    "\n",
    "    def getNV(self, morps):\n",
    "        stop_words = \"하다 것 등 수 그 이 더욱 대해 예 머 매 내 수도 무엇 모든 이다 때 곧 식 또한 좀 꼭 번 해 과 바로 더욱 논 보이 난 \"\n",
    "        stop_words = set(stop_words.split(' '))\n",
    "\n",
    "        result = []\n",
    "        for item , morp in morps:\n",
    "            if morp == 'Verb' or morp == 'Noun': \n",
    "                result.append(item)\n",
    "        s_result = []\n",
    "        \n",
    "        for word in result:\n",
    "            if word not in stop_words:\n",
    "                s_result.append(word)\n",
    "        return s_result\n",
    "    \n",
    "    def getN(self, morps):\n",
    "        stop_words = \"하다 것 등 수 그 이 더욱 대해 예 머 매 내 수도 무엇 모든 이다 때 곧 식 또한 좀 꼭 번 해 과 바로 더욱 논 보이 난 \"\n",
    "\n",
    "        stop_words = set(stop_words.split(' '))\n",
    "\n",
    "        result = []\n",
    "        for item , morp in morps:\n",
    "            if morp == 'Noun': \n",
    "                result.append(item)\n",
    "        s_result = []\n",
    "        \n",
    "        for word in result:\n",
    "            if word not in stop_words:\n",
    "                s_result.append(word)\n",
    "        s_result = np.unique(s_result)\n",
    "        return s_result\n",
    "\n",
    "    def counter(self,sents, n):\n",
    "        return sorted(collections.Counter(sents),reverse=True)[0:n]\n",
    "\n",
    "    def get_heatmap(self, emotion_idx,figsize):\n",
    "        plt.rc('font', family=self.font)\n",
    "        sNV = self.df['therapy'][emotion_idx].split(\" \")\n",
    "        effs_dims = ['에너지', '회복', '순환', '정화']\n",
    "        \n",
    "        \n",
    "        result = []\n",
    "        for out_word in sNV:\n",
    "            sub_result = []\n",
    "            for in_word in effs_dims:\n",
    "                try:\n",
    "                    sub_result.append(self.wiki_model.wv.similarity(out_word, in_word))\n",
    "                except:\n",
    "                    sub_result.append(0)\n",
    "            result.append(sub_result)\n",
    "        \n",
    "        fig = plt.figure(figsize=figsize)\n",
    "        fig.set_facecolor('white')\n",
    "        em_name = self.df['emotion'][emotion_idx]\n",
    "        plt.title(f'{em_name}에서 단어들간의 유사도 확인')\n",
    "        sns.heatmap(result,annot=True)\n",
    "        plt.xticks(np.arange(len(effs_dims)),effs_dims)\n",
    "        plt.yticks(np.arange(len(sNV)),sNV)\n",
    "        plt.show()\n",
    "              \n",
    "    def getDF(self):\n",
    "        self.df.to_csv('data.csv')\n",
    "        return self.df\n",
    "\n",
    "    def count_to_csv(self,file_name):\n",
    "        em_name = ['행복' , '열정' , '두려움', '분노' , '우울' , '슬픔']\n",
    "        em_idx = []\n",
    "        for em in em_name:\n",
    "            em_idx.append(em)\n",
    "            em_idx.append(em + \"count\")\n",
    "            em_idx.append(em + 'sims')\n",
    "        \n",
    "        em_dict = []\n",
    "        max =  0\n",
    "        for idx in range(0,5):\n",
    "            vv = len(collections.Counter(self.df['therapy_NV'][idx]).items())\n",
    "            if max < vv:\n",
    "                max = vv\n",
    "\n",
    "        ret_df = pd.DataFrame(em_dict,columns=em_idx)\n",
    "        \n",
    "        for idx in range(0,len(em_idx),3):\n",
    "            tmp = sorted(collections.Counter(self.df['therapy_NV'][round(idx/3)]).items(), key = lambda item : item[1], reverse=True)\n",
    "            tmp_words = []\n",
    "            tmp_counts = []\n",
    "            tmp_sims = []\n",
    "            for x, y in tmp:\n",
    "                tmp_words.append(x)\n",
    "                tmp_counts.append(y)\n",
    "                try:\n",
    "                    tmp_sims.append(self.wiki_model.wv.similarity(x,em_idx[idx]))\n",
    "                except:\n",
    "                    tmp_sims.append(0)\n",
    "            for _ in range(0,max - len(tmp)):\n",
    "                tmp_words.append(\"\")\n",
    "                tmp_counts.append(0)\n",
    "                tmp_sims.append(0)\n",
    "                \n",
    "            ret_df[em_idx[idx]] = tmp_words\n",
    "            ret_df[em_idx[idx+1]] = tmp_counts\n",
    "            ret_df[em_idx[idx+2]] = tmp_sims\n",
    "        ret_df.to_csv(file_name)\n",
    "        return ret_df\n",
    "                \n",
    "    def sim_word_to_csv(self,topn,file_name):\n",
    "        em_name = ['행복','Similarity', '열정','Similarity', '두려움', 'Similarity', '분노','Similarity', '우울','Similarity', '슬픔','Similarity']\n",
    "        em_dict = []\n",
    "        \n",
    "        ret_df = pd.DataFrame(em_dict,columns=em_name)\n",
    "        for idx in range(0,len(em_name),2):\n",
    "            \n",
    "            tmp = self.wiki_model.wv.most_similar(em_name[idx],topn=topn)\n",
    "            tmp_simwords = []\n",
    "            tmp_Similarity = []\n",
    "            \n",
    "            for x , y in tmp:\n",
    "                tmp_simwords.append(x)\n",
    "                tmp_Similarity.append(y)\n",
    "            \n",
    "            ret_df[em_name[idx]] = tmp_simwords\n",
    "            ret_df[em_name[idx+1]] = tmp_Similarity\n",
    "        ret_df.to_csv(file_name)\n",
    "        return ret_df\n",
    "    \n",
    "    def todf(self,topn, file_name):\n",
    "        ret_df  = pd.DataFrame(columns=['감정','에너지','회복','순환','정화'])\n",
    "        em = []\n",
    "        est_e= []\n",
    "        est_h= []\n",
    "        est_c= []\n",
    "        est_p= []\n",
    "        \n",
    "        for idx in self.df.index:\n",
    "            em.append(self.df['emotion'][idx])\n",
    "            est = self.result(idx,topn,False)\n",
    "            est_e.append(est[0])        \n",
    "            est_h.append(est[1])        \n",
    "            est_c.append(est[2])        \n",
    "            est_p.append(est[3])\n",
    "        ret_df['감정'] = em        \n",
    "        ret_df['에너지'] = est_e\n",
    "        ret_df['회복'] = est_h\n",
    "        ret_df['순환'] = est_c\n",
    "        ret_df['정화'] = est_p\n",
    "        \n",
    "        ret_df.to_csv(file_name,index=False)\n",
    "        return ret_df"
   ]
  },
  {
   "cell_type": "code",
   "execution_count": null,
   "metadata": {},
   "outputs": [],
   "source": []
  },
  {
   "cell_type": "code",
   "execution_count": 83,
   "metadata": {},
   "outputs": [
    {
     "data": {
      "text/html": [
       "<div>\n",
       "<style scoped>\n",
       "    .dataframe tbody tr th:only-of-type {\n",
       "        vertical-align: middle;\n",
       "    }\n",
       "\n",
       "    .dataframe tbody tr th {\n",
       "        vertical-align: top;\n",
       "    }\n",
       "\n",
       "    .dataframe thead th {\n",
       "        text-align: right;\n",
       "    }\n",
       "</style>\n",
       "<table border=\"1\" class=\"dataframe\">\n",
       "  <thead>\n",
       "    <tr style=\"text-align: right;\">\n",
       "      <th></th>\n",
       "      <th>emotion</th>\n",
       "      <th>therapy</th>\n",
       "    </tr>\n",
       "  </thead>\n",
       "  <tbody>\n",
       "    <tr>\n",
       "      <th>0</th>\n",
       "      <td>행복</td>\n",
       "      <td>음미 향유 긍정 느낌 증폭 지속 만끽 자축 즐거움 감사</td>\n",
       "    </tr>\n",
       "    <tr>\n",
       "      <th>1</th>\n",
       "      <td>열정</td>\n",
       "      <td>열정 오래가다 지속 타오르다 유지 건강 목표 달리다 실행 힘 숙면 운동 계획 능률...</td>\n",
       "    </tr>\n",
       "    <tr>\n",
       "      <th>2</th>\n",
       "      <td>두려움</td>\n",
       "      <td>즐거움 호기심 긍정 진정</td>\n",
       "    </tr>\n",
       "    <tr>\n",
       "      <th>3</th>\n",
       "      <td>분노</td>\n",
       "      <td>잠재우다 호르몬 작동 내면 줄이다 멈추다 전환점 통제 비우다 회피 인정 치료 의식...</td>\n",
       "    </tr>\n",
       "    <tr>\n",
       "      <th>4</th>\n",
       "      <td>우울</td>\n",
       "      <td>긍정 회복 목표 운동 균형</td>\n",
       "    </tr>\n",
       "    <tr>\n",
       "      <th>5</th>\n",
       "      <td>슬픔</td>\n",
       "      <td>지원 건강 극복 행복</td>\n",
       "    </tr>\n",
       "  </tbody>\n",
       "</table>\n",
       "</div>"
      ],
      "text/plain": [
       "  emotion                                            therapy\n",
       "0      행복                    음미 향유 긍정 느낌 증폭 지속 만끽 자축 즐거움 감사 \n",
       "1      열정   열정 오래가다 지속 타오르다 유지 건강 목표 달리다 실행 힘 숙면 운동 계획 능률...\n",
       "2     두려움                                     즐거움 호기심 긍정 진정 \n",
       "3      분노   잠재우다 호르몬 작동 내면 줄이다 멈추다 전환점 통제 비우다 회피 인정 치료 의식...\n",
       "4      우울                                    긍정 회복 목표 운동 균형 \n",
       "5      슬픔                                        지원 건강 극복 행복"
      ]
     },
     "execution_count": 83,
     "metadata": {},
     "output_type": "execute_result"
    }
   ],
   "source": [
    "h_data = pd.read_csv(\"../data/emotion_data_hand_craft.csv\")\n",
    "h_data"
   ]
  },
  {
   "cell_type": "code",
   "execution_count": 82,
   "metadata": {},
   "outputs": [],
   "source": [
    "# 상위 N개 설정\n",
    "topn = 1"
   ]
  },
  {
   "cell_type": "code",
   "execution_count": 127,
   "metadata": {},
   "outputs": [
    {
     "name": "stderr",
     "output_type": "stream",
     "text": [
      "C:\\Users\\fd\\anaconda3\\lib\\site-packages\\gensim\\models\\base_any2vec.py:742: UserWarning: C extension not loaded, training will be slow. Install a C compiler and reinstall gensim for fast training.\n",
      "  warnings.warn(\n"
     ]
    },
    {
     "data": {
      "text/html": [
       "<div>\n",
       "<style scoped>\n",
       "    .dataframe tbody tr th:only-of-type {\n",
       "        vertical-align: middle;\n",
       "    }\n",
       "\n",
       "    .dataframe tbody tr th {\n",
       "        vertical-align: top;\n",
       "    }\n",
       "\n",
       "    .dataframe thead th {\n",
       "        text-align: right;\n",
       "    }\n",
       "</style>\n",
       "<table border=\"1\" class=\"dataframe\">\n",
       "  <thead>\n",
       "    <tr style=\"text-align: right;\">\n",
       "      <th></th>\n",
       "      <th>감정</th>\n",
       "      <th>에너지</th>\n",
       "      <th>회복</th>\n",
       "      <th>순환</th>\n",
       "      <th>정화</th>\n",
       "    </tr>\n",
       "  </thead>\n",
       "  <tbody>\n",
       "    <tr>\n",
       "      <th>0</th>\n",
       "      <td>행복</td>\n",
       "      <td>0.300379</td>\n",
       "      <td>0.469413</td>\n",
       "      <td>0.287386</td>\n",
       "      <td>0.282726</td>\n",
       "    </tr>\n",
       "    <tr>\n",
       "      <th>1</th>\n",
       "      <td>열정</td>\n",
       "      <td>1.000000</td>\n",
       "      <td>0.598599</td>\n",
       "      <td>0.395890</td>\n",
       "      <td>0.400756</td>\n",
       "    </tr>\n",
       "    <tr>\n",
       "      <th>2</th>\n",
       "      <td>두려움</td>\n",
       "      <td>0.140877</td>\n",
       "      <td>0.477591</td>\n",
       "      <td>0.057623</td>\n",
       "      <td>0.300837</td>\n",
       "    </tr>\n",
       "    <tr>\n",
       "      <th>3</th>\n",
       "      <td>분노</td>\n",
       "      <td>0.364110</td>\n",
       "      <td>0.405571</td>\n",
       "      <td>0.323333</td>\n",
       "      <td>0.367194</td>\n",
       "    </tr>\n",
       "    <tr>\n",
       "      <th>4</th>\n",
       "      <td>우울</td>\n",
       "      <td>0.341376</td>\n",
       "      <td>1.000000</td>\n",
       "      <td>0.250951</td>\n",
       "      <td>0.360276</td>\n",
       "    </tr>\n",
       "    <tr>\n",
       "      <th>5</th>\n",
       "      <td>슬픔</td>\n",
       "      <td>0.191463</td>\n",
       "      <td>0.461462</td>\n",
       "      <td>0.185052</td>\n",
       "      <td>0.320086</td>\n",
       "    </tr>\n",
       "  </tbody>\n",
       "</table>\n",
       "</div>"
      ],
      "text/plain": [
       "    감정       에너지        회복        순환        정화\n",
       "0   행복  0.300379  0.469413  0.287386  0.282726\n",
       "1   열정  1.000000  0.598599  0.395890  0.400756\n",
       "2  두려움  0.140877  0.477591  0.057623  0.300837\n",
       "3   분노  0.364110  0.405571  0.323333  0.367194\n",
       "4   우울  0.341376  1.000000  0.250951  0.360276\n",
       "5   슬픔  0.191463  0.461462  0.185052  0.320086"
      ]
     },
     "execution_count": 127,
     "metadata": {},
     "output_type": "execute_result"
    }
   ],
   "source": [
    "hXYZ = check_data(h_data)\n",
    "std_test = hXYZ.todf(topn,\"../result/emotion_estimation_hand_craft.csv\")\n",
    "std_test"
   ]
  },
  {
   "cell_type": "code",
   "execution_count": 132,
   "metadata": {},
   "outputs": [
    {
     "name": "stdout",
     "output_type": "stream",
     "text": [
      "0.07788628781429328\n",
      "0.24563971119196518\n",
      "0.16059700531185125\n",
      "0.029102264793564113\n",
      "0.2983906835023195\n",
      "0.11294611430129681\n",
      "각 item의 분산에 대한 평균: \n",
      "0.15409367781921504\n"
     ]
    }
   ],
   "source": [
    "mean_std = []\n",
    "for em , *est in np.array(std_test):\n",
    "    std = np.std(est)\n",
    "    mean_std.append(std)\n",
    "    print(std)\n",
    "\n",
    "print('각 item의 분산에 대한 평균: \\n{}'.format(np.mean(mean_std)))"
   ]
  },
  {
   "cell_type": "code",
   "execution_count": 85,
   "metadata": {},
   "outputs": [
    {
     "data": {
      "image/png": "[encoded data removed]",
      "text/plain": [
       "<Figure size 432x288 with 1 Axes>"
      ]
     },
     "metadata": {
      "needs_background": "light"
     },
     "output_type": "display_data"
    },
    {
     "name": "stdout",
     "output_type": "stream",
     "text": [
      "행복s std is 0.07788628781429328\n"
     ]
    },
    {
     "data": {
      "image/png": "[encoded data removed]",
      "text/plain": [
       "<Figure size 432x288 with 1 Axes>"
      ]
     },
     "metadata": {
      "needs_background": "light"
     },
     "output_type": "display_data"
    },
    {
     "name": "stdout",
     "output_type": "stream",
     "text": [
      "열정s std is 0.24563971119196518\n"
     ]
    },
    {
     "data": {
      "image/png": "[encoded data removed]",
      "text/plain": [
       "<Figure size 432x288 with 1 Axes>"
      ]
     },
     "metadata": {
      "needs_background": "light"
     },
     "output_type": "display_data"
    },
    {
     "name": "stdout",
     "output_type": "stream",
     "text": [
      "두려움s std is 0.16059700531185125\n"
     ]
    },
    {
     "data": {
      "image/png": "[encoded data removed]",
      "text/plain": [
       "<Figure size 432x288 with 1 Axes>"
      ]
     },
     "metadata": {
      "needs_background": "light"
     },
     "output_type": "display_data"
    },
    {
     "name": "stdout",
     "output_type": "stream",
     "text": [
      "분노s std is 0.029102264793564113\n"
     ]
    },
    {
     "data": {
      "image/png": "[encoded data removed]",
      "text/plain": [
       "<Figure size 432x288 with 1 Axes>"
      ]
     },
     "metadata": {
      "needs_background": "light"
     },
     "output_type": "display_data"
    },
    {
     "name": "stdout",
     "output_type": "stream",
     "text": [
      "우울s std is 0.2983906835023195\n"
     ]
    },
    {
     "data": {
      "image/png": "[encoded data removed]",
      "text/plain": [
       "<Figure size 432x288 with 1 Axes>"
      ]
     },
     "metadata": {
      "needs_background": "light"
     },
     "output_type": "display_data"
    },
    {
     "name": "stdout",
     "output_type": "stream",
     "text": [
      "슬픔s std is 0.11294611430129681\n"
     ]
    }
   ],
   "source": [
    "# 상위 N개에 대한 평균 시각화\n",
    "for i in h_data.index:\n",
    "    hXYZ.result(i,topn,True)\n"
   ]
  },
  {
   "cell_type": "code",
   "execution_count": null,
   "metadata": {},
   "outputs": [],
   "source": []
  },
  {
   "cell_type": "code",
   "execution_count": 140,
   "metadata": {},
   "outputs": [],
   "source": [
    "def choose_topn(topn):\n",
    "    hXYZ = check_data(h_data)\n",
    "    std_test = hXYZ.todf(topn,\"../result/emotion_estimation_hand_craft.csv\")\n",
    "\n",
    "    mean_std = []\n",
    "    for em , *est in np.array(std_test):\n",
    "        std = np.std(est)\n",
    "        mean_std.append(std)\n",
    "        #print(std)\n",
    "\n",
    "    print('각 item의 분산에 대한 평균: {}'.format(np.mean(mean_std)))\n"
   ]
  },
  {
   "cell_type": "code",
   "execution_count": 142,
   "metadata": {},
   "outputs": [
    {
     "name": "stderr",
     "output_type": "stream",
     "text": [
      "C:\\Users\\fd\\anaconda3\\lib\\site-packages\\gensim\\models\\base_any2vec.py:742: UserWarning: C extension not loaded, training will be slow. Install a C compiler and reinstall gensim for fast training.\n",
      "  warnings.warn(\n"
     ]
    },
    {
     "name": "stdout",
     "output_type": "stream",
     "text": [
      "각 item의 분산에 대한 평균: 0.15409367781921504\n"
     ]
    },
    {
     "name": "stderr",
     "output_type": "stream",
     "text": [
      "C:\\Users\\fd\\anaconda3\\lib\\site-packages\\gensim\\models\\base_any2vec.py:742: UserWarning: C extension not loaded, training will be slow. Install a C compiler and reinstall gensim for fast training.\n",
      "  warnings.warn(\n"
     ]
    },
    {
     "name": "stdout",
     "output_type": "stream",
     "text": [
      "각 item의 분산에 대한 평균: 0.09931957488877645\n"
     ]
    },
    {
     "name": "stderr",
     "output_type": "stream",
     "text": [
      "C:\\Users\\fd\\anaconda3\\lib\\site-packages\\gensim\\models\\base_any2vec.py:742: UserWarning: C extension not loaded, training will be slow. Install a C compiler and reinstall gensim for fast training.\n",
      "  warnings.warn(\n"
     ]
    },
    {
     "name": "stdout",
     "output_type": "stream",
     "text": [
      "각 item의 분산에 대한 평균: 0.0800200083680485\n"
     ]
    },
    {
     "name": "stderr",
     "output_type": "stream",
     "text": [
      "C:\\Users\\fd\\anaconda3\\lib\\site-packages\\gensim\\models\\base_any2vec.py:742: UserWarning: C extension not loaded, training will be slow. Install a C compiler and reinstall gensim for fast training.\n",
      "  warnings.warn(\n"
     ]
    },
    {
     "name": "stdout",
     "output_type": "stream",
     "text": [
      "각 item의 분산에 대한 평균: 0.06913789679018369\n"
     ]
    },
    {
     "name": "stderr",
     "output_type": "stream",
     "text": [
      "C:\\Users\\fd\\anaconda3\\lib\\site-packages\\gensim\\models\\base_any2vec.py:742: UserWarning: C extension not loaded, training will be slow. Install a C compiler and reinstall gensim for fast training.\n",
      "  warnings.warn(\n"
     ]
    },
    {
     "name": "stdout",
     "output_type": "stream",
     "text": [
      "각 item의 분산에 대한 평균: 0.06222129132668077\n"
     ]
    },
    {
     "name": "stderr",
     "output_type": "stream",
     "text": [
      "C:\\Users\\fd\\anaconda3\\lib\\site-packages\\gensim\\models\\base_any2vec.py:742: UserWarning: C extension not loaded, training will be slow. Install a C compiler and reinstall gensim for fast training.\n",
      "  warnings.warn(\n"
     ]
    },
    {
     "name": "stdout",
     "output_type": "stream",
     "text": [
      "각 item의 분산에 대한 평균: 0.05736308858457891\n"
     ]
    },
    {
     "name": "stderr",
     "output_type": "stream",
     "text": [
      "C:\\Users\\fd\\anaconda3\\lib\\site-packages\\gensim\\models\\base_any2vec.py:742: UserWarning: C extension not loaded, training will be slow. Install a C compiler and reinstall gensim for fast training.\n",
      "  warnings.warn(\n"
     ]
    },
    {
     "name": "stdout",
     "output_type": "stream",
     "text": [
      "각 item의 분산에 대한 평균: 0.054679760168792745\n"
     ]
    },
    {
     "name": "stderr",
     "output_type": "stream",
     "text": [
      "C:\\Users\\fd\\anaconda3\\lib\\site-packages\\gensim\\models\\base_any2vec.py:742: UserWarning: C extension not loaded, training will be slow. Install a C compiler and reinstall gensim for fast training.\n",
      "  warnings.warn(\n"
     ]
    },
    {
     "name": "stdout",
     "output_type": "stream",
     "text": [
      "각 item의 분산에 대한 평균: 0.05246748493092853\n",
      "각 item의 분산에 대한 평균: 0.050671420409547675\n"
     ]
    },
    {
     "name": "stderr",
     "output_type": "stream",
     "text": [
      "C:\\Users\\fd\\anaconda3\\lib\\site-packages\\gensim\\models\\base_any2vec.py:742: UserWarning: C extension not loaded, training will be slow. Install a C compiler and reinstall gensim for fast training.\n",
      "  warnings.warn(\n"
     ]
    }
   ],
   "source": [
    "for idx in range(1,10):\n",
    "    choose_topn(idx)"
   ]
  },
  {
   "cell_type": "code",
   "execution_count": null,
   "metadata": {},
   "outputs": [],
   "source": []
  },
  {
   "cell_type": "code",
   "execution_count": 143,
   "metadata": {},
   "outputs": [
    {
     "data": {
      "image/png": "[encoded data removed]",
      "text/plain": [
       "<Figure size 432x288 with 1 Axes>"
      ]
     },
     "metadata": {
      "needs_background": "light"
     },
     "output_type": "display_data"
    },
    {
     "name": "stdout",
     "output_type": "stream",
     "text": [
      "행복s std is 0.07788628781429328\n"
     ]
    },
    {
     "data": {
      "image/png": "[encoded data removed]",
      "text/plain": [
       "<Figure size 432x288 with 1 Axes>"
      ]
     },
     "metadata": {
      "needs_background": "light"
     },
     "output_type": "display_data"
    },
    {
     "name": "stdout",
     "output_type": "stream",
     "text": [
      "열정s std is 0.24563971119196518\n"
     ]
    },
    {
     "data": {
      "image/png": "[encoded data removed]",
      "text/plain": [
       "<Figure size 432x288 with 1 Axes>"
      ]
     },
     "metadata": {
      "needs_background": "light"
     },
     "output_type": "display_data"
    },
    {
     "name": "stdout",
     "output_type": "stream",
     "text": [
      "두려움s std is 0.16059700531185125\n"
     ]
    },
    {
     "data": {
      "image/png": "[encoded data removed]",
      "text/plain": [
       "<Figure size 432x288 with 1 Axes>"
      ]
     },
     "metadata": {
      "needs_background": "light"
     },
     "output_type": "display_data"
    },
    {
     "name": "stdout",
     "output_type": "stream",
     "text": [
      "분노s std is 0.029102264793564113\n"
     ]
    },
    {
     "data": {
      "image/png": "[encoded data removed]",
      "text/plain": [
       "<Figure size 432x288 with 1 Axes>"
      ]
     },
     "metadata": {
      "needs_background": "light"
     },
     "output_type": "display_data"
    },
    {
     "name": "stdout",
     "output_type": "stream",
     "text": [
      "우울s std is 0.2983906835023195\n"
     ]
    },
    {
     "data": {
      "image/png": "[encoded data removed]",
      "text/plain": [
       "<Figure size 432x288 with 1 Axes>"
      ]
     },
     "metadata": {
      "needs_background": "light"
     },
     "output_type": "display_data"
    },
    {
     "name": "stdout",
     "output_type": "stream",
     "text": [
      "슬픔s std is 0.11294611430129681\n"
     ]
    }
   ],
   "source": [
    "# 상위 1개에 대한 평균 시각화\n",
    "for i in h_data.index:\n",
    "    hXYZ.result(i,1,True)\n"
   ]
  },
  {
   "cell_type": "code",
   "execution_count": 144,
   "metadata": {},
   "outputs": [
    {
     "data": {
      "image/png": "[encoded data removed]",
      "text/plain": [
       "<Figure size 432x288 with 1 Axes>"
      ]
     },
     "metadata": {
      "needs_background": "light"
     },
     "output_type": "display_data"
    },
    {
     "name": "stdout",
     "output_type": "stream",
     "text": [
      "행복s std is 0.07554359760721789\n"
     ]
    },
    {
     "data": {
      "image/png": "[encoded data removed]",
      "text/plain": [
       "<Figure size 432x288 with 1 Axes>"
      ]
     },
     "metadata": {
      "needs_background": "light"
     },
     "output_type": "display_data"
    },
    {
     "name": "stdout",
     "output_type": "stream",
     "text": [
      "열정s std is 0.14714967208971266\n"
     ]
    },
    {
     "data": {
      "image/png": "[encoded data removed]",
      "text/plain": [
       "<Figure size 432x288 with 1 Axes>"
      ]
     },
     "metadata": {
      "needs_background": "light"
     },
     "output_type": "display_data"
    },
    {
     "name": "stdout",
     "output_type": "stream",
     "text": [
      "두려움s std is 0.1088578240877475\n"
     ]
    },
    {
     "data": {
      "image/png": "[encoded data removed]",
      "text/plain": [
       "<Figure size 432x288 with 1 Axes>"
      ]
     },
     "metadata": {
      "needs_background": "light"
     },
     "output_type": "display_data"
    },
    {
     "name": "stdout",
     "output_type": "stream",
     "text": [
      "분노s std is 0.0162855837028474\n"
     ]
    },
    {
     "data": {
      "image/png": "[encoded data removed]",
      "text/plain": [
       "<Figure size 432x288 with 1 Axes>"
      ]
     },
     "metadata": {
      "needs_background": "light"
     },
     "output_type": "display_data"
    },
    {
     "name": "stdout",
     "output_type": "stream",
     "text": [
      "우울s std is 0.15141547405679814\n"
     ]
    },
    {
     "data": {
      "image/png": "[encoded data removed]",
      "text/plain": [
       "<Figure size 432x288 with 1 Axes>"
      ]
     },
     "metadata": {
      "needs_background": "light"
     },
     "output_type": "display_data"
    },
    {
     "name": "stdout",
     "output_type": "stream",
     "text": [
      "슬픔s std is 0.09666529778833513\n"
     ]
    }
   ],
   "source": [
    "# 상위 1개에 대한 평균 시각화\n",
    "for i in h_data.index:\n",
    "    hXYZ.result(i,2,True)\n"
   ]
  },
  {
   "cell_type": "code",
   "execution_count": null,
   "metadata": {},
   "outputs": [],
   "source": []
  }
 ],
 "metadata": {
  "interpreter": {
   "hash": "29452f6d2151aa2870314585b3e91bb7a8843450c46b48401a824fa318bf3597"
  },
  "kernelspec": {
   "display_name": "Python 3.9.7 ('base')",
   "language": "python",
   "name": "python3"
  },
  "language_info": {
   "codemirror_mode": {
    "name": "ipython",
    "version": 3
   },
   "file_extension": ".py",
   "mimetype": "text/x-python",
   "name": "python",
   "nbconvert_exporter": "python",
   "pygments_lexer": "ipython3",
   "version": "3.9.7"
  },
  "orig_nbformat": 4
 },
 "nbformat": 4,
 "nbformat_minor": 2
}
