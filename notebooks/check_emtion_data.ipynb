{
 "cells": [
  {
   "cell_type": "code",
   "execution_count": 40,
   "metadata": {},
   "outputs": [],
   "source": [
    "import collections\n",
    "import numpy as np\n",
    "import pandas as pd\n",
    "import platform\n",
    "import seaborn as sns\n",
    "import matplotlib.pyplot as plt\n",
    "from konlpy.tag import Okt\n",
    "from matplotlib import rc\n",
    "from gensim.models import Word2Vec\n"
   ]
  },
  {
   "cell_type": "code",
   "execution_count": 41,
   "metadata": {},
   "outputs": [],
   "source": [
    "class check_data():\n",
    "    def __init__(self,df):\n",
    "        self.df = df\n",
    "        self.wiki_model = Word2Vec.load('../ko/ko.bin')\n",
    "        if platform.system() == 'Windows':\n",
    "            self.font = 'Malgun Gothic'\n",
    "        else:\n",
    "            self.font = 'NanumGothic'\n",
    "        self.df['therapy_Morps'] = self.df['therapy'].map(lambda x: self.getMorps(x))\n",
    "        self.df['therapy_NV'] = self.df['therapy_Morps'].map(lambda x: self.getNV(x))\n",
    "        self.df['therapy_N'] = self.df['therapy_Morps'].map(lambda x: self.getN(x))\n",
    "  \n",
    "    def topn(self,n):\n",
    "        self.df['therapy_count_topn_NV']  = self.df['therapy_NV'].map(lambda x: self.counter(x,n)) \n",
    "        self.df['therapy_count_topn_N']  = self.df['therapy_N'].map(lambda x: self.counter(x,n)) \n",
    "\n",
    "    def result(self,idx, top , dis):\n",
    "        effs_dims = ['에너지', '회복', '순환', '정화']\n",
    "        sNV = self.df['therapy'][idx]\n",
    "        result = []\n",
    "        for dim in effs_dims:\n",
    "            sub = []\n",
    "            for sim_word in dim:\n",
    "                for word in sNV:\n",
    "                    try:\n",
    "                        sub.append(self.wiki_model.wv.similarity(sim_word , word))\n",
    "                    except:\n",
    "                        sub.append(0)\n",
    "            tmp = np.sort(sub)[::-1][:top].mean()\n",
    "            result.append(tmp)\n",
    "\n",
    "        if dis == True:\n",
    "            from matplotlib import rc\n",
    "            plt.rc('font', family=self.font)\n",
    "\n",
    "            word = self.df.iloc[idx][0]\n",
    "\n",
    "            plt.figure()\n",
    "            plt.bar(np.arange(len(result)),result)\n",
    "            plt.title(f'{word}\\'s mapping for top {top} using 대표어')\n",
    "            plt.xticks(np.arange(len(effs_dims)), effs_dims)\n",
    "            plt.yticks(np.arange(0,1.2,0.2))\n",
    "            plt.show()\n",
    "        return result\n",
    "\n",
    "\n",
    "    def getMorps(self,sent):\n",
    "        return Okt().pos(sent , norm=False , stem = True) \n",
    "\n",
    "    def getNV(self, morps):\n",
    "        stop_words = \"하다 것 등 수 그 이 더욱 대해 예 머 매 내 수도 무엇 모든 이다 때 곧 식 또한 좀 꼭 번 해 과 바로 더욱 논 보이 난 \"\n",
    "        stop_words = set(stop_words.split(' '))\n",
    "\n",
    "        result = []\n",
    "        for item , morp in morps:\n",
    "            if morp == 'Verb' or morp == 'Noun': \n",
    "                result.append(item)\n",
    "        s_result = []\n",
    "        \n",
    "        for word in result:\n",
    "            if word not in stop_words:\n",
    "                s_result.append(word)\n",
    "        return s_result\n",
    "    \n",
    "    def getN(self, morps):\n",
    "        stop_words = \"하다 것 등 수 그 이 더욱 대해 예 머 매 내 수도 무엇 모든 이다 때 곧 식 또한 좀 꼭 번 해 과 바로 더욱 논 보이 난 \"\n",
    "\n",
    "        stop_words = set(stop_words.split(' '))\n",
    "\n",
    "        result = []\n",
    "        for item , morp in morps:\n",
    "            if morp == 'Noun': \n",
    "                result.append(item)\n",
    "        s_result = []\n",
    "        \n",
    "        for word in result:\n",
    "            if word not in stop_words:\n",
    "                s_result.append(word)\n",
    "        s_result = np.unique(s_result)\n",
    "        return s_result\n",
    "\n",
    "    def counter(self,sents, n):\n",
    "        return sorted(collections.Counter(sents),reverse=True)[0:n]\n",
    "\n",
    "    def get_heatmap(self, emotion_name,figsize):\n",
    "        plt.rc('font', family=self.font)\n",
    "        result = []\n",
    "        x =   self.df[self.df['emotion'] == emotion_name].index.tolist()[0]\n",
    "        indf = self.df['therapy_count_topn_N'][x]\n",
    "        \n",
    "        for out_word in indf:\n",
    "            sub_result = []\n",
    "            for in_word in indf:\n",
    "                try:\n",
    "                    sub_result.append(self.wiki_model.wv.similarity(out_word, in_word))\n",
    "                except:\n",
    "                    sub_result.append(0)\n",
    "            result.append(sub_result)\n",
    "        \n",
    "        fig = plt.figure(figsize=figsize)\n",
    "        fig.set_facecolor('white')\n",
    "        plt.title(f'{emotion_name}에서 단어들간의 유사도 확인')\n",
    "        sns.heatmap(result,annot=True)\n",
    "        plt.xticks(np.arange(len(indf)),indf)\n",
    "        plt.yticks(np.arange(len(indf)),indf)\n",
    "        plt.show()\n",
    "        \n",
    "    def getDF(self):\n",
    "        self.df.to_csv('data.csv')\n",
    "        return self.df\n",
    "\n",
    "    def count_to_csv(self,file_name):\n",
    "        em_name = ['행복' , '열정' , '두려움', '분노' , '우울' , '슬픔']\n",
    "        em_idx = []\n",
    "        for em in em_name:\n",
    "            em_idx.append(em)\n",
    "            em_idx.append(em + \"count\")\n",
    "            em_idx.append(em + 'sims')\n",
    "        \n",
    "        em_dict = []\n",
    "        max =  0\n",
    "        for idx in range(0,5):\n",
    "            vv = len(collections.Counter(self.df['therapy_NV'][idx]).items())\n",
    "            if max < vv:\n",
    "                max = vv\n",
    "\n",
    "        ret_df = pd.DataFrame(em_dict,columns=em_idx)\n",
    "        \n",
    "        for idx in range(0,len(em_idx),3):\n",
    "            tmp = sorted(collections.Counter(self.df['therapy_NV'][round(idx/3)]).items(), key = lambda item : item[1], reverse=True)\n",
    "            tmp_words = []\n",
    "            tmp_counts = []\n",
    "            tmp_sims = []\n",
    "            for x, y in tmp:\n",
    "                tmp_words.append(x)\n",
    "                tmp_counts.append(y)\n",
    "                try:\n",
    "                    tmp_sims.append(self.wiki_model.wv.similarity(x,em_idx[idx]))\n",
    "                except:\n",
    "                    tmp_sims.append(0)\n",
    "            for _ in range(0,max - len(tmp)):\n",
    "                tmp_words.append(\"\")\n",
    "                tmp_counts.append(0)\n",
    "                tmp_sims.append(0)\n",
    "                \n",
    "            ret_df[em_idx[idx]] = tmp_words\n",
    "            ret_df[em_idx[idx+1]] = tmp_counts\n",
    "            ret_df[em_idx[idx+2]] = tmp_sims\n",
    "        ret_df.to_csv(file_name)\n",
    "        return ret_df\n",
    "                \n",
    "    def sim_word_to_csv(self,topn,file_name):\n",
    "        em_name = ['행복','Similarity', '열정','Similarity', '두려움', 'Similarity', '분노','Similarity', '우울','Similarity', '슬픔','Similarity']\n",
    "        em_dict = []\n",
    "        \n",
    "        ret_df = pd.DataFrame(em_dict,columns=em_name)\n",
    "        for idx in range(0,len(em_name),2):\n",
    "            \n",
    "            tmp = self.wiki_model.wv.most_similar(em_name[idx],topn=topn)\n",
    "            tmp_simwords = []\n",
    "            tmp_Similarity = []\n",
    "            \n",
    "            for x , y in tmp:\n",
    "                tmp_simwords.append(x)\n",
    "                tmp_Similarity.append(y)\n",
    "            \n",
    "            ret_df[em_name[idx]] = tmp_simwords\n",
    "            ret_df[em_name[idx+1]] = tmp_Similarity\n",
    "        ret_df.to_csv(file_name)\n",
    "        return ret_df\n",
    "    \n",
    "    def todf(self,file_name):\n",
    "        ret_df  = pd.DataFrame(columns=['감정','에너지','회복','순환','정화'])\n",
    "        em = []\n",
    "        est_e= []\n",
    "        est_h= []\n",
    "        est_c= []\n",
    "        est_p= []\n",
    "        \n",
    "        cols = self.df.columns\n",
    "        for idx in self.df.index:\n",
    "            em.append(self.df['emotion'][idx])\n",
    "            est = self.result(idx,5,False)\n",
    "            est_e.append(est[0])        \n",
    "            est_h.append(est[1])        \n",
    "            est_c.append(est[2])        \n",
    "            est_p.append(est[3])\n",
    "        ret_df['감정'] = em        \n",
    "        ret_df['에너지'] = est_e\n",
    "        ret_df['회복'] = est_h\n",
    "        ret_df['순환'] = est_c\n",
    "        ret_df['정화'] = est_p\n",
    "        \n",
    "        ret_df.to_csv(file_name,index=False)\n",
    "        return ret_df"
   ]
  },
  {
   "cell_type": "code",
   "execution_count": 42,
   "metadata": {},
   "outputs": [
    {
     "data": {
      "text/html": [
       "<div>\n",
       "<style scoped>\n",
       "    .dataframe tbody tr th:only-of-type {\n",
       "        vertical-align: middle;\n",
       "    }\n",
       "\n",
       "    .dataframe tbody tr th {\n",
       "        vertical-align: top;\n",
       "    }\n",
       "\n",
       "    .dataframe thead th {\n",
       "        text-align: right;\n",
       "    }\n",
       "</style>\n",
       "<table border=\"1\" class=\"dataframe\">\n",
       "  <thead>\n",
       "    <tr style=\"text-align: right;\">\n",
       "      <th></th>\n",
       "      <th>emotion</th>\n",
       "      <th>therapy</th>\n",
       "    </tr>\n",
       "  </thead>\n",
       "  <tbody>\n",
       "    <tr>\n",
       "      <th>0</th>\n",
       "      <td>행복</td>\n",
       "      <td>우수한 업무성과나 탁월한 발표 등 긍정적인 사건에 대해 다른 사람들이 얼마나 깊은 ...</td>\n",
       "    </tr>\n",
       "    <tr>\n",
       "      <th>1</th>\n",
       "      <td>열정</td>\n",
       "      <td>어쩌면 무책임한말. 세상에는 열정으로 되는 것이 있고 되지 않는 것이 있다. 열정은...</td>\n",
       "    </tr>\n",
       "    <tr>\n",
       "      <th>2</th>\n",
       "      <td>두려움</td>\n",
       "      <td>우리에게 두려움을 일으키는 요인은 다양하다. 엘리베이터에 타는 것을 꺼리는 사람이 ...</td>\n",
       "    </tr>\n",
       "    <tr>\n",
       "      <th>3</th>\n",
       "      <td>분노</td>\n",
       "      <td>뇌와 호르몬이 작동하는 원리에 따라 내면을 들여다보면 내 안의 분노와 열등감, 자기...</td>\n",
       "    </tr>\n",
       "    <tr>\n",
       "      <th>4</th>\n",
       "      <td>우울</td>\n",
       "      <td>슬픔, 흥미의 상실, 무관심 이 세 가지는 많은 우울증 환자들을 둘러싼 어두운 삼각...</td>\n",
       "    </tr>\n",
       "    <tr>\n",
       "      <th>5</th>\n",
       "      <td>슬픔</td>\n",
       "      <td>슬픔에는 정서적 증상과 신체적 증상이 있다는 점을 알고 있는 것이 좋다. 비탄을 겪...</td>\n",
       "    </tr>\n",
       "  </tbody>\n",
       "</table>\n",
       "</div>"
      ],
      "text/plain": [
       "  emotion                                            therapy\n",
       "0      행복  우수한 업무성과나 탁월한 발표 등 긍정적인 사건에 대해 다른 사람들이 얼마나 깊은 ...\n",
       "1      열정  어쩌면 무책임한말. 세상에는 열정으로 되는 것이 있고 되지 않는 것이 있다. 열정은...\n",
       "2     두려움  우리에게 두려움을 일으키는 요인은 다양하다. 엘리베이터에 타는 것을 꺼리는 사람이 ...\n",
       "3      분노  뇌와 호르몬이 작동하는 원리에 따라 내면을 들여다보면 내 안의 분노와 열등감, 자기...\n",
       "4      우울  슬픔, 흥미의 상실, 무관심 이 세 가지는 많은 우울증 환자들을 둘러싼 어두운 삼각...\n",
       "5      슬픔  슬픔에는 정서적 증상과 신체적 증상이 있다는 점을 알고 있는 것이 좋다. 비탄을 겪..."
      ]
     },
     "execution_count": 42,
     "metadata": {},
     "output_type": "execute_result"
    }
   ],
   "source": [
    "data = pd.read_csv(\"../data/emotion_data.csv\")\n",
    "data"
   ]
  },
  {
   "cell_type": "code",
   "execution_count": 43,
   "metadata": {},
   "outputs": [
    {
     "data": {
      "text/html": [
       "<div>\n",
       "<style scoped>\n",
       "    .dataframe tbody tr th:only-of-type {\n",
       "        vertical-align: middle;\n",
       "    }\n",
       "\n",
       "    .dataframe tbody tr th {\n",
       "        vertical-align: top;\n",
       "    }\n",
       "\n",
       "    .dataframe thead th {\n",
       "        text-align: right;\n",
       "    }\n",
       "</style>\n",
       "<table border=\"1\" class=\"dataframe\">\n",
       "  <thead>\n",
       "    <tr style=\"text-align: right;\">\n",
       "      <th></th>\n",
       "      <th>감정</th>\n",
       "      <th>에너지</th>\n",
       "      <th>회복</th>\n",
       "      <th>순환</th>\n",
       "      <th>정화</th>\n",
       "    </tr>\n",
       "  </thead>\n",
       "  <tbody>\n",
       "    <tr>\n",
       "      <th>0</th>\n",
       "      <td>행복</td>\n",
       "      <td>1.0</td>\n",
       "      <td>0.895547</td>\n",
       "      <td>0.664710</td>\n",
       "      <td>1.0</td>\n",
       "    </tr>\n",
       "    <tr>\n",
       "      <th>1</th>\n",
       "      <td>열정</td>\n",
       "      <td>1.0</td>\n",
       "      <td>0.883856</td>\n",
       "      <td>0.699461</td>\n",
       "      <td>1.0</td>\n",
       "    </tr>\n",
       "    <tr>\n",
       "      <th>2</th>\n",
       "      <td>두려움</td>\n",
       "      <td>1.0</td>\n",
       "      <td>1.000000</td>\n",
       "      <td>0.541071</td>\n",
       "      <td>1.0</td>\n",
       "    </tr>\n",
       "    <tr>\n",
       "      <th>3</th>\n",
       "      <td>분노</td>\n",
       "      <td>1.0</td>\n",
       "      <td>0.686641</td>\n",
       "      <td>0.460918</td>\n",
       "      <td>1.0</td>\n",
       "    </tr>\n",
       "    <tr>\n",
       "      <th>4</th>\n",
       "      <td>우울</td>\n",
       "      <td>1.0</td>\n",
       "      <td>0.895547</td>\n",
       "      <td>1.000000</td>\n",
       "      <td>1.0</td>\n",
       "    </tr>\n",
       "    <tr>\n",
       "      <th>5</th>\n",
       "      <td>슬픔</td>\n",
       "      <td>1.0</td>\n",
       "      <td>1.000000</td>\n",
       "      <td>0.541815</td>\n",
       "      <td>1.0</td>\n",
       "    </tr>\n",
       "  </tbody>\n",
       "</table>\n",
       "</div>"
      ],
      "text/plain": [
       "    감정  에너지        회복        순환   정화\n",
       "0   행복  1.0  0.895547  0.664710  1.0\n",
       "1   열정  1.0  0.883856  0.699461  1.0\n",
       "2  두려움  1.0  1.000000  0.541071  1.0\n",
       "3   분노  1.0  0.686641  0.460918  1.0\n",
       "4   우울  1.0  0.895547  1.000000  1.0\n",
       "5   슬픔  1.0  1.000000  0.541815  1.0"
      ]
     },
     "execution_count": 43,
     "metadata": {},
     "output_type": "execute_result"
    }
   ],
   "source": [
    "XYZ = check_data(data)\n",
    "XYZ.todf(\"../result/emotion_estimation.csv\")"
   ]
  },
  {
   "cell_type": "code",
   "execution_count": 48,
   "metadata": {},
   "outputs": [
    {
     "data": {
      "image/png": "[encoded data removed]",
      "text/plain": [
       "<Figure size 432x288 with 1 Axes>"
      ]
     },
     "metadata": {
      "needs_background": "light"
     },
     "output_type": "display_data"
    },
    {
     "data": {
      "image/png": "[encoded data removed]",
      "text/plain": [
       "<Figure size 432x288 with 1 Axes>"
      ]
     },
     "metadata": {
      "needs_background": "light"
     },
     "output_type": "display_data"
    },
    {
     "data": {
      "image/png": "[encoded data removed]",
      "text/plain": [
       "<Figure size 432x288 with 1 Axes>"
      ]
     },
     "metadata": {
      "needs_background": "light"
     },
     "output_type": "display_data"
    },
    {
     "data": {
      "image/png": "[encoded data removed]",
      "text/plain": [
       "<Figure size 432x288 with 1 Axes>"
      ]
     },
     "metadata": {
      "needs_background": "light"
     },
     "output_type": "display_data"
    },
    {
     "data": {
      "image/png": "[encoded data removed]",
      "text/plain": [
       "<Figure size 432x288 with 1 Axes>"
      ]
     },
     "metadata": {
      "needs_background": "light"
     },
     "output_type": "display_data"
    }
   ],
   "source": [
    "for idx in range(0,5):\n",
    "    XYZ.result(idx,3,True)"
   ]
  },
  {
   "cell_type": "code",
   "execution_count": 44,
   "metadata": {},
   "outputs": [
    {
     "data": {
      "text/html": [
       "<div>\n",
       "<style scoped>\n",
       "    .dataframe tbody tr th:only-of-type {\n",
       "        vertical-align: middle;\n",
       "    }\n",
       "\n",
       "    .dataframe tbody tr th {\n",
       "        vertical-align: top;\n",
       "    }\n",
       "\n",
       "    .dataframe thead th {\n",
       "        text-align: right;\n",
       "    }\n",
       "</style>\n",
       "<table border=\"1\" class=\"dataframe\">\n",
       "  <thead>\n",
       "    <tr style=\"text-align: right;\">\n",
       "      <th></th>\n",
       "      <th>emotion</th>\n",
       "      <th>therapy</th>\n",
       "    </tr>\n",
       "  </thead>\n",
       "  <tbody>\n",
       "    <tr>\n",
       "      <th>0</th>\n",
       "      <td>행복</td>\n",
       "      <td>음미 향유 긍정 느낌 증폭 지속 만끽 자축 즐거움 감사</td>\n",
       "    </tr>\n",
       "    <tr>\n",
       "      <th>1</th>\n",
       "      <td>열정</td>\n",
       "      <td>열정 오래가다 지속 타오르다 유지 건강 목표 달리다 실행 힘 숙면 운동 계획 능률...</td>\n",
       "    </tr>\n",
       "    <tr>\n",
       "      <th>2</th>\n",
       "      <td>두려움</td>\n",
       "      <td>즐거움 호기심 긍정 진정</td>\n",
       "    </tr>\n",
       "    <tr>\n",
       "      <th>3</th>\n",
       "      <td>분노</td>\n",
       "      <td>잠재우다 호르몬 작동 내면 줄이다 멈추다 전환점 통제 비우다 회피 인정 치료 의식...</td>\n",
       "    </tr>\n",
       "    <tr>\n",
       "      <th>4</th>\n",
       "      <td>우울</td>\n",
       "      <td>긍정 회복 목표 운동 균형</td>\n",
       "    </tr>\n",
       "    <tr>\n",
       "      <th>5</th>\n",
       "      <td>슬픔</td>\n",
       "      <td>지원 건강 극복 행복</td>\n",
       "    </tr>\n",
       "  </tbody>\n",
       "</table>\n",
       "</div>"
      ],
      "text/plain": [
       "  emotion                                            therapy\n",
       "0      행복                    음미 향유 긍정 느낌 증폭 지속 만끽 자축 즐거움 감사 \n",
       "1      열정   열정 오래가다 지속 타오르다 유지 건강 목표 달리다 실행 힘 숙면 운동 계획 능률...\n",
       "2     두려움                                     즐거움 호기심 긍정 진정 \n",
       "3      분노   잠재우다 호르몬 작동 내면 줄이다 멈추다 전환점 통제 비우다 회피 인정 치료 의식...\n",
       "4      우울                                    긍정 회복 목표 운동 균형 \n",
       "5      슬픔                                        지원 건강 극복 행복"
      ]
     },
     "execution_count": 44,
     "metadata": {},
     "output_type": "execute_result"
    }
   ],
   "source": [
    "h_data = pd.read_csv(\"../data/emotion_data_hand_craft.csv\")\n",
    "h_data"
   ]
  },
  {
   "cell_type": "code",
   "execution_count": 39,
   "metadata": {},
   "outputs": [
    {
     "data": {
      "text/html": [
       "<div>\n",
       "<style scoped>\n",
       "    .dataframe tbody tr th:only-of-type {\n",
       "        vertical-align: middle;\n",
       "    }\n",
       "\n",
       "    .dataframe tbody tr th {\n",
       "        vertical-align: top;\n",
       "    }\n",
       "\n",
       "    .dataframe thead th {\n",
       "        text-align: right;\n",
       "    }\n",
       "</style>\n",
       "<table border=\"1\" class=\"dataframe\">\n",
       "  <thead>\n",
       "    <tr style=\"text-align: right;\">\n",
       "      <th></th>\n",
       "      <th>감정</th>\n",
       "      <th>에너지</th>\n",
       "      <th>회복</th>\n",
       "      <th>순환</th>\n",
       "      <th>정화</th>\n",
       "    </tr>\n",
       "  </thead>\n",
       "  <tbody>\n",
       "    <tr>\n",
       "      <th>0</th>\n",
       "      <td>행복</td>\n",
       "      <td>0.441997</td>\n",
       "      <td>0.280129</td>\n",
       "      <td>0.329806</td>\n",
       "      <td>0.415003</td>\n",
       "    </tr>\n",
       "    <tr>\n",
       "      <th>1</th>\n",
       "      <td>열정</td>\n",
       "      <td>1.000000</td>\n",
       "      <td>0.456525</td>\n",
       "      <td>0.405685</td>\n",
       "      <td>1.000000</td>\n",
       "    </tr>\n",
       "    <tr>\n",
       "      <th>2</th>\n",
       "      <td>두려움</td>\n",
       "      <td>0.251791</td>\n",
       "      <td>0.277455</td>\n",
       "      <td>0.334114</td>\n",
       "      <td>0.536851</td>\n",
       "    </tr>\n",
       "    <tr>\n",
       "      <th>3</th>\n",
       "      <td>분노</td>\n",
       "      <td>0.566569</td>\n",
       "      <td>0.517889</td>\n",
       "      <td>0.520081</td>\n",
       "      <td>0.871676</td>\n",
       "    </tr>\n",
       "    <tr>\n",
       "      <th>4</th>\n",
       "      <td>우울</td>\n",
       "      <td>0.098494</td>\n",
       "      <td>0.594044</td>\n",
       "      <td>0.380115</td>\n",
       "      <td>0.387859</td>\n",
       "    </tr>\n",
       "    <tr>\n",
       "      <th>5</th>\n",
       "      <td>슬픔</td>\n",
       "      <td>0.291794</td>\n",
       "      <td>0.513508</td>\n",
       "      <td>0.353911</td>\n",
       "      <td>0.257016</td>\n",
       "    </tr>\n",
       "  </tbody>\n",
       "</table>\n",
       "</div>"
      ],
      "text/plain": [
       "    감정       에너지        회복        순환        정화\n",
       "0   행복  0.441997  0.280129  0.329806  0.415003\n",
       "1   열정  1.000000  0.456525  0.405685  1.000000\n",
       "2  두려움  0.251791  0.277455  0.334114  0.536851\n",
       "3   분노  0.566569  0.517889  0.520081  0.871676\n",
       "4   우울  0.098494  0.594044  0.380115  0.387859\n",
       "5   슬픔  0.291794  0.513508  0.353911  0.257016"
      ]
     },
     "execution_count": 39,
     "metadata": {},
     "output_type": "execute_result"
    }
   ],
   "source": [
    "hXYZ = check_data(h_data)\n",
    "hXYZ.todf(\"../result/emotion_estimation_hand_craft.csv\")"
   ]
  },
  {
   "cell_type": "code",
   "execution_count": 46,
   "metadata": {},
   "outputs": [
    {
     "data": {
      "image/png": "[encoded data removed]",
      "text/plain": [
       "<Figure size 432x288 with 1 Axes>"
      ]
     },
     "metadata": {
      "needs_background": "light"
     },
     "output_type": "display_data"
    },
    {
     "data": {
      "image/png": "[encoded data removed]",
      "text/plain": [
       "<Figure size 432x288 with 1 Axes>"
      ]
     },
     "metadata": {
      "needs_background": "light"
     },
     "output_type": "display_data"
    },
    {
     "data": {
      "image/png": "[encoded data removed]",
      "text/plain": [
       "<Figure size 432x288 with 1 Axes>"
      ]
     },
     "metadata": {
      "needs_background": "light"
     },
     "output_type": "display_data"
    },
    {
     "data": {
      "image/png": "[encoded data removed]",
      "text/plain": [
       "<Figure size 432x288 with 1 Axes>"
      ]
     },
     "metadata": {
      "needs_background": "light"
     },
     "output_type": "display_data"
    },
    {
     "data": {
      "image/png": "[encoded data removed]",
      "text/plain": [
       "<Figure size 432x288 with 1 Axes>"
      ]
     },
     "metadata": {
      "needs_background": "light"
     },
     "output_type": "display_data"
    }
   ],
   "source": [
    "for i in range(0,5):\n",
    "    hXYZ.result(i,3,True)"
   ]
  },
  {
   "cell_type": "code",
   "execution_count": null,
   "metadata": {},
   "outputs": [],
   "source": []
  }
 ],
 "metadata": {
  "interpreter": {
   "hash": "29452f6d2151aa2870314585b3e91bb7a8843450c46b48401a824fa318bf3597"
  },
  "kernelspec": {
   "display_name": "Python 3.9.7 ('base')",
   "language": "python",
   "name": "python3"
  },
  "language_info": {
   "codemirror_mode": {
    "name": "ipython",
    "version": 3
   },
   "file_extension": ".py",
   "mimetype": "text/x-python",
   "name": "python",
   "nbconvert_exporter": "python",
   "pygments_lexer": "ipython3",
   "version": "3.9.7"
  },
  "orig_nbformat": 4
 },
 "nbformat": 4,
 "nbformat_minor": 2
}
