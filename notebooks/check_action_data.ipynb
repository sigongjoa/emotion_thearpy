{
 "cells": [
  {
   "cell_type": "code",
   "execution_count": 12,
   "metadata": {},
   "outputs": [],
   "source": [
    "import platform\n",
    "import collections\n",
    "import numpy as np\n",
    "import pandas as pd\n",
    "import seaborn as sns\n",
    "import matplotlib.pyplot as plt\n",
    "from konlpy.tag import Okt\n",
    "from matplotlib import rc\n",
    "from gensim.models import Word2Vec\n"
   ]
  },
  {
   "cell_type": "code",
   "execution_count": 13,
   "metadata": {},
   "outputs": [
    {
     "data": {
      "text/html": [
       "<div>\n",
       "<style scoped>\n",
       "    .dataframe tbody tr th:only-of-type {\n",
       "        vertical-align: middle;\n",
       "    }\n",
       "\n",
       "    .dataframe tbody tr th {\n",
       "        vertical-align: top;\n",
       "    }\n",
       "\n",
       "    .dataframe thead th {\n",
       "        text-align: right;\n",
       "    }\n",
       "</style>\n",
       "<table border=\"1\" class=\"dataframe\">\n",
       "  <thead>\n",
       "    <tr style=\"text-align: right;\">\n",
       "      <th></th>\n",
       "      <th>action</th>\n",
       "      <th>efficacy</th>\n",
       "    </tr>\n",
       "  </thead>\n",
       "  <tbody>\n",
       "    <tr>\n",
       "      <th>0</th>\n",
       "      <td>명상</td>\n",
       "      <td>이완, 혈액순환, 원활, 면역력 증가, 심신 안정, 스트레스 완화, 감정 조절, 수...</td>\n",
       "    </tr>\n",
       "    <tr>\n",
       "      <th>1</th>\n",
       "      <td>운동</td>\n",
       "      <td>체중 조절, 기분 전환 및 정신건강 증진 , 당뇨병과 대사 증후권 위험 감소, 뼈와...</td>\n",
       "    </tr>\n",
       "    <tr>\n",
       "      <th>2</th>\n",
       "      <td>산책</td>\n",
       "      <td>숙면에 도움, 수명 증가, 치매 예방, 몸매 유지, 스트레스 해소</td>\n",
       "    </tr>\n",
       "    <tr>\n",
       "      <th>3</th>\n",
       "      <td>수면</td>\n",
       "      <td>피부 관리, 고혈압 예방, 면역력 증진 , 건선 증상 완화 , 심장 질환 예방</td>\n",
       "    </tr>\n",
       "    <tr>\n",
       "      <th>4</th>\n",
       "      <td>독서</td>\n",
       "      <td>기억력 향상, 사고력 향상, 사회적 참여 촉진, 수면 도움 , 인지 능력 유연성 향상</td>\n",
       "    </tr>\n",
       "    <tr>\n",
       "      <th>5</th>\n",
       "      <td>영화</td>\n",
       "      <td>영화는 우리에게 다양한 아이디어의 소스를 제공해줍니다. 대리만족과 공감을 할 수 있...</td>\n",
       "    </tr>\n",
       "    <tr>\n",
       "      <th>6</th>\n",
       "      <td>취미</td>\n",
       "      <td>정신을 맑게 한다, 신감을 갖게 한다, 뇌를 건강하게 한다, 스트레스를 퇴치한다, ...</td>\n",
       "    </tr>\n",
       "    <tr>\n",
       "      <th>7</th>\n",
       "      <td>요리</td>\n",
       "      <td>NaN</td>\n",
       "    </tr>\n",
       "    <tr>\n",
       "      <th>8</th>\n",
       "      <td>여행</td>\n",
       "      <td>NaN</td>\n",
       "    </tr>\n",
       "    <tr>\n",
       "      <th>9</th>\n",
       "      <td>식사</td>\n",
       "      <td>NaN</td>\n",
       "    </tr>\n",
       "    <tr>\n",
       "      <th>10</th>\n",
       "      <td>목욕</td>\n",
       "      <td>NaN</td>\n",
       "    </tr>\n",
       "    <tr>\n",
       "      <th>11</th>\n",
       "      <td>등상</td>\n",
       "      <td>NaN</td>\n",
       "    </tr>\n",
       "  </tbody>\n",
       "</table>\n",
       "</div>"
      ],
      "text/plain": [
       "   action                                           efficacy\n",
       "0      명상  이완, 혈액순환, 원활, 면역력 증가, 심신 안정, 스트레스 완화, 감정 조절, 수...\n",
       "1      운동  체중 조절, 기분 전환 및 정신건강 증진 , 당뇨병과 대사 증후권 위험 감소, 뼈와...\n",
       "2      산책               숙면에 도움, 수명 증가, 치매 예방, 몸매 유지, 스트레스 해소\n",
       "3      수면        피부 관리, 고혈압 예방, 면역력 증진 , 건선 증상 완화 , 심장 질환 예방\n",
       "4      독서    기억력 향상, 사고력 향상, 사회적 참여 촉진, 수면 도움 , 인지 능력 유연성 향상\n",
       "5      영화  영화는 우리에게 다양한 아이디어의 소스를 제공해줍니다. 대리만족과 공감을 할 수 있...\n",
       "6      취미  정신을 맑게 한다, 신감을 갖게 한다, 뇌를 건강하게 한다, 스트레스를 퇴치한다, ...\n",
       "7      요리                                                NaN\n",
       "8      여행                                                NaN\n",
       "9      식사                                                NaN\n",
       "10     목욕                                                NaN\n",
       "11     등상                                                NaN"
      ]
     },
     "execution_count": 13,
     "metadata": {},
     "output_type": "execute_result"
    }
   ],
   "source": [
    "dir = \"../data/action_data.csv\"\n",
    "data = pd.read_csv(dir)\n",
    "col = data.columns[:-1]\n",
    "data = data[col]\n",
    "data\n"
   ]
  },
  {
   "cell_type": "code",
   "execution_count": 48,
   "metadata": {},
   "outputs": [],
   "source": [
    "class check_data():\n",
    "    def __init__(self,df):\n",
    "        self.df = df\n",
    "        self.wiki_model = Word2Vec.load('../ko/ko.bin')\n",
    "        if platform.system() == 'Windows':\n",
    "            self.font = 'Malgun Gothic'\n",
    "        else:\n",
    "            self.font = 'NanumGothic'\n",
    "\n",
    "        self.eff = self.df.columns[1]\n",
    "        self.df[f'{self.eff}_Morps'] = self.df[self.eff].map(lambda x: self.getMorps(x))\n",
    "        self.df[f'{self.eff}_NV'] = self.df[f'{self.eff}_Morps'].map(lambda x: self.getNV(x))\n",
    "        self.df[f'{self.eff}_N'] = self.df[f'{self.eff}_Morps'].map(lambda x: self.getN(x))\n",
    "  \n",
    "    def topn(self,n):\n",
    "        self.df[f'{self.eff}_count_topn_NV']  = self.df[f'{self.eff}_NV'].map(lambda x: self.counter(x,n)) \n",
    "        self.df[f'{self.eff}_count_topn_N']  = self.df['{self.eff}_N'].map(lambda x: self.counter(x,n)) \n",
    "\n",
    "    def getMorps(self,sent):\n",
    "        return Okt().pos(sent , norm=False , stem = True) \n",
    "\n",
    "    def getNV(self, morps):\n",
    "        stop_words = \"하다 것 등 수 그 이 더욱 대해 예 머 매 내 수도 무엇 모든 이다 때 곧 식 또한 좀 꼭 번 해 과 바로 더욱 논 보이 난 \"\n",
    "        stop_words = set(stop_words.split(' '))\n",
    "\n",
    "        result = []\n",
    "        for item , morp in morps:\n",
    "            if morp == 'Verb' or morp == 'Noun': \n",
    "                result.append(item)\n",
    "        s_result = []\n",
    "        \n",
    "        for word in result:\n",
    "            if word not in stop_words:\n",
    "                s_result.append(word)\n",
    "        return s_result\n",
    "    \n",
    "    def getN(self, morps):\n",
    "        stop_words = \"하다 것 등 수 그 이 더욱 대해 예 머 매 내 수도 무엇 모든 이다 때 곧 식 또한 좀 꼭 번 해 과 바로 더욱 논 보이 난 \"\n",
    "\n",
    "        stop_words = set(stop_words.split(' '))\n",
    "\n",
    "        result = []\n",
    "        for item , morp in morps:\n",
    "            if morp == 'Noun': \n",
    "                result.append(item)\n",
    "        s_result = []\n",
    "        \n",
    "        for word in result:\n",
    "            if word not in stop_words:\n",
    "                s_result.append(word)\n",
    "        s_result = np.unique(s_result)\n",
    "        return s_result\n",
    "\n",
    "    def counter(self,sents, n):\n",
    "        return sorted(collections.Counter(sents),reverse=True)[0:n]\n",
    "\n",
    "    def get_heatmap(self, idx,figsize):\n",
    "        plt.rc('font', family=self.font)\n",
    "        result = []\n",
    "        sents = self.df[f'{self.eff}_NV'][idx]\n",
    "        \n",
    "        for out_word in sents:\n",
    "            sub_result = []\n",
    "            for in_word in sents:\n",
    "                try:\n",
    "                    sub_result.append(self.wiki_model.wv.similarity(out_word, in_word))\n",
    "                except:\n",
    "                    sub_result.append(0)\n",
    "            result.append(sub_result)\n",
    "        \n",
    "        fig = plt.figure(figsize=figsize)\n",
    "        fig.set_facecolor('white')\n",
    "        plt.title(f'{idx}에서 단어들간의 유사도 확인')\n",
    "        sns.heatmap(result,annot=True)\n",
    "        plt.xticks(np.arange(len(sents)),sents)\n",
    "        plt.yticks(np.arange(len(sents)),sents)\n",
    "        plt.show()\n",
    "        \n",
    "    def getDF(self):\n",
    "        self.df.to_csv('data.csv')\n",
    "        return self.df\n",
    "\n",
    "    def result(self,idx, top , dis):\n",
    "        effs_dims = ['에너지', '회복', '순환', '정화']\n",
    "        sNV = self.df[f'{self.eff}_NV'][idx]\n",
    "        result = []\n",
    "        for dim in effs_dims:\n",
    "            sub = []\n",
    "            for sim_word in dim:\n",
    "                for word in sNV:\n",
    "                    try:\n",
    "                        sub.append(self.wiki_model.wv.similarity(sim_word , word))\n",
    "                    except:\n",
    "                        sub.append(0)\n",
    "            tmp = np.sort(sub)[::-1][:top].mean()\n",
    "            result.append(tmp)\n",
    "\n",
    "        if dis == True:\n",
    "            from matplotlib import rc\n",
    "            plt.rc('font', family=self.font)\n",
    "\n",
    "            word = self.df.iloc[idx][0]\n",
    "\n",
    "            plt.figure()\n",
    "            plt.bar(np.arange(len(result)),result)\n",
    "            plt.title(f'{word}\\'s mapping for top {top} using 대표어')\n",
    "            plt.xticks(np.arange(len(effs_dims)), effs_dims)\n",
    "            plt.yticks(np.arange(0,1.2,0.2))\n",
    "            plt.show()\n",
    "        return result\n",
    "\n",
    "    def todf(self, file_name):\n",
    "        cols = ['에너지','회복', '순환', '정화']\n",
    "        col = self.df.columns\n",
    "        ret_df  = pd.DataFrame(columns=['행동'] + cols)\n",
    "        act = []\n",
    "        est_e = []\n",
    "        est_h = []\n",
    "        est_s = []\n",
    "        est_p = []\n",
    "\n",
    "        for idx in self.df.index:\n",
    "            act.append(self.df['action'][idx])\n",
    "            eff = self.result(idx,3,False)\n",
    "            est_e.append(eff[0])\n",
    "            est_h.append(eff[1])\n",
    "            est_s.append(eff[0])\n",
    "\n",
    "\n",
    "        ret_df.set_index('행동',inplace=True)\n",
    "        ret_df.to_csv(file_name)\n",
    "        return ret_df"
   ]
  },
  {
   "cell_type": "code",
   "execution_count": 26,
   "metadata": {},
   "outputs": [
    {
     "name": "stderr",
     "output_type": "stream",
     "text": [
      "C:\\Users\\fd\\anaconda3\\lib\\site-packages\\gensim\\models\\base_any2vec.py:742: UserWarning: C extension not loaded, training will be slow. Install a C compiler and reinstall gensim for fast training.\n",
      "  warnings.warn(\n",
      "C:\\Users\\fd\\AppData\\Local\\Temp/ipykernel_8968/3213007780.py:11: SettingWithCopyWarning: \n",
      "A value is trying to be set on a copy of a slice from a DataFrame.\n",
      "Try using .loc[row_indexer,col_indexer] = value instead\n",
      "\n",
      "See the caveats in the documentation: https://pandas.pydata.org/pandas-docs/stable/user_guide/indexing.html#returning-a-view-versus-a-copy\n",
      "  self.df[f'{self.eff}_Morps'] = self.df[self.eff].map(lambda x: self.getMorps(x))\n",
      "C:\\Users\\fd\\AppData\\Local\\Temp/ipykernel_8968/3213007780.py:12: SettingWithCopyWarning: \n",
      "A value is trying to be set on a copy of a slice from a DataFrame.\n",
      "Try using .loc[row_indexer,col_indexer] = value instead\n",
      "\n",
      "See the caveats in the documentation: https://pandas.pydata.org/pandas-docs/stable/user_guide/indexing.html#returning-a-view-versus-a-copy\n",
      "  self.df[f'{self.eff}_NV'] = self.df[f'{self.eff}_Morps'].map(lambda x: self.getNV(x))\n",
      "C:\\Users\\fd\\AppData\\Local\\Temp/ipykernel_8968/3213007780.py:13: SettingWithCopyWarning: \n",
      "A value is trying to be set on a copy of a slice from a DataFrame.\n",
      "Try using .loc[row_indexer,col_indexer] = value instead\n",
      "\n",
      "See the caveats in the documentation: https://pandas.pydata.org/pandas-docs/stable/user_guide/indexing.html#returning-a-view-versus-a-copy\n",
      "  self.df[f'{self.eff}_N'] = self.df[f'{self.eff}_Morps'].map(lambda x: self.getN(x))\n"
     ]
    },
    {
     "data": {
      "image/png": "[encoded data removed]",
      "text/plain": [
       "<Figure size 432x288 with 1 Axes>"
      ]
     },
     "metadata": {
      "needs_background": "light"
     },
     "output_type": "display_data"
    },
    {
     "data": {
      "image/png": "[encoded data removed]",
      "text/plain": [
       "<Figure size 432x288 with 1 Axes>"
      ]
     },
     "metadata": {
      "needs_background": "light"
     },
     "output_type": "display_data"
    },
    {
     "data": {
      "image/png": "[encoded data removed]",
      "text/plain": [
       "<Figure size 432x288 with 1 Axes>"
      ]
     },
     "metadata": {
      "needs_background": "light"
     },
     "output_type": "display_data"
    },
    {
     "data": {
      "image/png": "[encoded data removed]",
      "text/plain": [
       "<Figure size 432x288 with 1 Axes>"
      ]
     },
     "metadata": {
      "needs_background": "light"
     },
     "output_type": "display_data"
    },
    {
     "data": {
      "image/png": "[encoded data removed]",
      "text/plain": [
       "<Figure size 432x288 with 1 Axes>"
      ]
     },
     "metadata": {
      "needs_background": "light"
     },
     "output_type": "display_data"
    }
   ],
   "source": [
    "XYZ = check_data(data[0:5])\n",
    "#XYZ.get_heatmap(0,(10,10))\n",
    "for i in range(0,5):\n",
    "    XYZ.result(i,3,True)"
   ]
  },
  {
   "cell_type": "code",
   "execution_count": 49,
   "metadata": {},
   "outputs": [
    {
     "name": "stdout",
     "output_type": "stream",
     "text": [
      "0.21609108\n",
      "0.20688276489575705\n",
      "0.18448005616664886\n",
      "0.18554255863030752\n",
      "0.2108956128358841\n"
     ]
    },
    {
     "name": "stderr",
     "output_type": "stream",
     "text": [
      "C:\\Users\\fd\\anaconda3\\lib\\site-packages\\gensim\\models\\base_any2vec.py:742: UserWarning: C extension not loaded, training will be slow. Install a C compiler and reinstall gensim for fast training.\n",
      "  warnings.warn(\n",
      "C:\\Users\\fd\\AppData\\Local\\Temp/ipykernel_8968/3380583758.py:11: SettingWithCopyWarning: \n",
      "A value is trying to be set on a copy of a slice from a DataFrame.\n",
      "Try using .loc[row_indexer,col_indexer] = value instead\n",
      "\n",
      "See the caveats in the documentation: https://pandas.pydata.org/pandas-docs/stable/user_guide/indexing.html#returning-a-view-versus-a-copy\n",
      "  self.df[f'{self.eff}_Morps'] = self.df[self.eff].map(lambda x: self.getMorps(x))\n",
      "C:\\Users\\fd\\AppData\\Local\\Temp/ipykernel_8968/3380583758.py:12: SettingWithCopyWarning: \n",
      "A value is trying to be set on a copy of a slice from a DataFrame.\n",
      "Try using .loc[row_indexer,col_indexer] = value instead\n",
      "\n",
      "See the caveats in the documentation: https://pandas.pydata.org/pandas-docs/stable/user_guide/indexing.html#returning-a-view-versus-a-copy\n",
      "  self.df[f'{self.eff}_NV'] = self.df[f'{self.eff}_Morps'].map(lambda x: self.getNV(x))\n",
      "C:\\Users\\fd\\AppData\\Local\\Temp/ipykernel_8968/3380583758.py:13: SettingWithCopyWarning: \n",
      "A value is trying to be set on a copy of a slice from a DataFrame.\n",
      "Try using .loc[row_indexer,col_indexer] = value instead\n",
      "\n",
      "See the caveats in the documentation: https://pandas.pydata.org/pandas-docs/stable/user_guide/indexing.html#returning-a-view-versus-a-copy\n",
      "  self.df[f'{self.eff}_N'] = self.df[f'{self.eff}_Morps'].map(lambda x: self.getN(x))\n"
     ]
    },
    {
     "data": {
      "text/html": [
       "<div>\n",
       "<style scoped>\n",
       "    .dataframe tbody tr th:only-of-type {\n",
       "        vertical-align: middle;\n",
       "    }\n",
       "\n",
       "    .dataframe tbody tr th {\n",
       "        vertical-align: top;\n",
       "    }\n",
       "\n",
       "    .dataframe thead th {\n",
       "        text-align: right;\n",
       "    }\n",
       "</style>\n",
       "<table border=\"1\" class=\"dataframe\">\n",
       "  <thead>\n",
       "    <tr style=\"text-align: right;\">\n",
       "      <th></th>\n",
       "      <th>에너지</th>\n",
       "      <th>회복</th>\n",
       "      <th>순환</th>\n",
       "      <th>정화</th>\n",
       "    </tr>\n",
       "    <tr>\n",
       "      <th>행동</th>\n",
       "      <th></th>\n",
       "      <th></th>\n",
       "      <th></th>\n",
       "      <th></th>\n",
       "    </tr>\n",
       "  </thead>\n",
       "  <tbody>\n",
       "  </tbody>\n",
       "</table>\n",
       "</div>"
      ],
      "text/plain": [
       "Empty DataFrame\n",
       "Columns: [에너지, 회복, 순환, 정화]\n",
       "Index: []"
      ]
     },
     "execution_count": 49,
     "metadata": {},
     "output_type": "execute_result"
    }
   ],
   "source": [
    "XYZ = check_data(data[0:5])\n",
    "data.head()\n",
    "XYZ.todf(\"../result/action_estimation.csv\")"
   ]
  },
  {
   "cell_type": "code",
   "execution_count": null,
   "metadata": {},
   "outputs": [],
   "source": []
  }
 ],
 "metadata": {
  "interpreter": {
   "hash": "29452f6d2151aa2870314585b3e91bb7a8843450c46b48401a824fa318bf3597"
  },
  "kernelspec": {
   "display_name": "Python 3.9.7 ('base')",
   "language": "python",
   "name": "python3"
  },
  "language_info": {
   "codemirror_mode": {
    "name": "ipython",
    "version": 3
   },
   "file_extension": ".py",
   "mimetype": "text/x-python",
   "name": "python",
   "nbconvert_exporter": "python",
   "pygments_lexer": "ipython3",
   "version": "3.9.7"
  },
  "orig_nbformat": 4
 },
 "nbformat": 4,
 "nbformat_minor": 2
}
