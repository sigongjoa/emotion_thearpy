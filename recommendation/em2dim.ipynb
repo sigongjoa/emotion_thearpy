{
 "cells": [
  {
   "cell_type": "code",
   "execution_count": 69,
   "metadata": {},
   "outputs": [],
   "source": [
    "import pandas as pd\n",
    "import numpy as np\n",
    "em_est = pd.read_csv('../result/action_estimation.csv')\n",
    "\n",
    "em_list = [1,0,0,0,0,0]\n",
    "# 분노 , 두려움 , 행복 , 슬픔 , 에너지, 우울"
   ]
  },
  {
   "cell_type": "code",
   "execution_count": 70,
   "metadata": {},
   "outputs": [
    {
     "data": {
      "text/html": [
       "<div>\n",
       "<style scoped>\n",
       "    .dataframe tbody tr th:only-of-type {\n",
       "        vertical-align: middle;\n",
       "    }\n",
       "\n",
       "    .dataframe tbody tr th {\n",
       "        vertical-align: top;\n",
       "    }\n",
       "\n",
       "    .dataframe thead th {\n",
       "        text-align: right;\n",
       "    }\n",
       "</style>\n",
       "<table border=\"1\" class=\"dataframe\">\n",
       "  <thead>\n",
       "    <tr style=\"text-align: right;\">\n",
       "      <th></th>\n",
       "      <th>감정</th>\n",
       "      <th>에너지</th>\n",
       "      <th>회복</th>\n",
       "      <th>순환</th>\n",
       "      <th>정화</th>\n",
       "    </tr>\n",
       "  </thead>\n",
       "  <tbody>\n",
       "    <tr>\n",
       "      <th>0</th>\n",
       "      <td>행복</td>\n",
       "      <td>0.324557</td>\n",
       "      <td>0.344684</td>\n",
       "      <td>0.257535</td>\n",
       "      <td>0.372669</td>\n",
       "    </tr>\n",
       "    <tr>\n",
       "      <th>1</th>\n",
       "      <td>우울</td>\n",
       "      <td>0.256301</td>\n",
       "      <td>0.539817</td>\n",
       "      <td>0.321080</td>\n",
       "      <td>0.273804</td>\n",
       "    </tr>\n",
       "    <tr>\n",
       "      <th>2</th>\n",
       "      <td>슬픔</td>\n",
       "      <td>0.310976</td>\n",
       "      <td>0.308342</td>\n",
       "      <td>0.262105</td>\n",
       "      <td>0.256712</td>\n",
       "    </tr>\n",
       "    <tr>\n",
       "      <th>3</th>\n",
       "      <td>열정</td>\n",
       "      <td>0.269738</td>\n",
       "      <td>0.488793</td>\n",
       "      <td>0.353732</td>\n",
       "      <td>0.360805</td>\n",
       "    </tr>\n",
       "    <tr>\n",
       "      <th>4</th>\n",
       "      <td>분노</td>\n",
       "      <td>0.322202</td>\n",
       "      <td>0.440319</td>\n",
       "      <td>0.408658</td>\n",
       "      <td>0.398532</td>\n",
       "    </tr>\n",
       "    <tr>\n",
       "      <th>5</th>\n",
       "      <td>두려움</td>\n",
       "      <td>0.295698</td>\n",
       "      <td>0.295809</td>\n",
       "      <td>0.393288</td>\n",
       "      <td>0.315617</td>\n",
       "    </tr>\n",
       "  </tbody>\n",
       "</table>\n",
       "</div>"
      ],
      "text/plain": [
       "    감정       에너지        회복        순환        정화\n",
       "0   행복  0.324557  0.344684  0.257535  0.372669\n",
       "1   우울  0.256301  0.539817  0.321080  0.273804\n",
       "2   슬픔  0.310976  0.308342  0.262105  0.256712\n",
       "3   열정  0.269738  0.488793  0.353732  0.360805\n",
       "4   분노  0.322202  0.440319  0.408658  0.398532\n",
       "5  두려움  0.295698  0.295809  0.393288  0.315617"
      ]
     },
     "execution_count": 70,
     "metadata": {},
     "output_type": "execute_result"
    }
   ],
   "source": [
    "em_est"
   ]
  },
  {
   "cell_type": "code",
   "execution_count": 83,
   "metadata": {},
   "outputs": [],
   "source": [
    "def get_item_est(em_list):\n",
    "#def get_item_est(self , em_list):\n",
    "    item_est = np.array([0,0,0,0])\n",
    "    for em in range(0,len(em_list)):                  \n",
    "        item_est = item_est + (em_est.iloc[em][1:]) * em_list[em]\n",
    "        #item_est = item_est + (self.em_est.iloc[em][1:]) * em_list[em]\n",
    "        \n",
    "    \n",
    "    # add Normalization code\n",
    "    # item_est를 적절히 Normailztion 하면 됨\n",
    "    return np.array(item_est.tolist())"
   ]
  },
  {
   "cell_type": "code",
   "execution_count": 84,
   "metadata": {},
   "outputs": [
    {
     "data": {
      "text/plain": [
       "array([0.32455681, 0.34468368, 0.2575352 , 0.37266921])"
      ]
     },
     "execution_count": 84,
     "metadata": {},
     "output_type": "execute_result"
    }
   ],
   "source": [
    "get_item_est(em_list)"
   ]
  },
  {
   "cell_type": "code",
   "execution_count": null,
   "metadata": {},
   "outputs": [],
   "source": [
    "# class 안에 넣을 함수\n",
    "def get_item_est(self , em_list):\n",
    "    item_est = np.array([0,0,0,0])\n",
    "    for em in range(0,len(em_list)):                  \n",
    "        item_est = item_est + (self.emothon_df[em][1:]) * em_list[em]\n",
    "        \n",
    "    # add Normalization code\n",
    "    # item_est를 적절히 Normailztion 하면 됨\n",
    "    return np.array(item_est.tolist())"
   ]
  },
  {
   "cell_type": "markdown",
   "metadata": {},
   "source": [
    "# Test Section"
   ]
  },
  {
   "cell_type": "code",
   "execution_count": 85,
   "metadata": {},
   "outputs": [
    {
     "data": {
      "text/plain": [
       "array([0., 0., 0., 0.])"
      ]
     },
     "execution_count": 85,
     "metadata": {},
     "output_type": "execute_result"
    }
   ],
   "source": [
    "em_list = [0,0,0,0,0,0]\n",
    "get_item_est(em_list)"
   ]
  },
  {
   "cell_type": "code",
   "execution_count": 86,
   "metadata": {},
   "outputs": [
    {
     "name": "stdout",
     "output_type": "stream",
     "text": [
      "[0.32455681 0.34468368 0.2575352  0.37266921]\n",
      "[0.3245568096637726 0.3446836769580841 0.2575351953506469\n",
      " 0.3726692140102386]\n"
     ]
    }
   ],
   "source": [
    "em_list = [1,0,0,0,0,0]\n",
    "print(get_item_est(em_list))\n",
    "print(em_est.iloc[0].to_numpy()[1:])"
   ]
  },
  {
   "cell_type": "code",
   "execution_count": 90,
   "metadata": {},
   "outputs": [
    {
     "name": "stdout",
     "output_type": "stream",
     "text": [
      "[1.77947111 2.4177636  1.99639751 1.97813998]\n",
      "1.7794711142778394\n",
      "2.4177635967731477\n",
      "1.9963975131511686\n",
      "1.9781399756669997\n"
     ]
    }
   ],
   "source": [
    "em_list = [1,1,1,1,1,1]\n",
    "print(get_item_est(em_list))\n",
    "print(sum(em_est['에너지']))\n",
    "print(sum(em_est['회복']))\n",
    "print(sum(em_est['순환']))\n",
    "print(sum(em_est['정화']))"
   ]
  },
  {
   "cell_type": "code",
   "execution_count": null,
   "metadata": {},
   "outputs": [],
   "source": []
  }
 ],
 "metadata": {
  "interpreter": {
   "hash": "29452f6d2151aa2870314585b3e91bb7a8843450c46b48401a824fa318bf3597"
  },
  "kernelspec": {
   "display_name": "Python 3.9.7 ('base')",
   "language": "python",
   "name": "python3"
  },
  "language_info": {
   "codemirror_mode": {
    "name": "ipython",
    "version": 3
   },
   "file_extension": ".py",
   "mimetype": "text/x-python",
   "name": "python",
   "nbconvert_exporter": "python",
   "pygments_lexer": "ipython3",
   "version": "3.9.7"
  },
  "orig_nbformat": 4
 },
 "nbformat": 4,
 "nbformat_minor": 2
}
