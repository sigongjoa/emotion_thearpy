{
 "cells": [
  {
   "cell_type": "code",
   "execution_count": 2,
   "metadata": {},
   "outputs": [],
   "source": [
    "import platform\n",
    "import warnings\n",
    "import collections\n",
    "import numpy as np\n",
    "import pandas as pd\n",
    "import seaborn as sns\n",
    "import matplotlib.pyplot as plt\n",
    "from konlpy.tag import Okt\n",
    "from matplotlib import rc\n",
    "from gensim.models import Word2Vec\n",
    "\n",
    "warnings.filterwarnings(action='ignore')\n"
   ]
  },
  {
   "cell_type": "code",
   "execution_count": 3,
   "metadata": {},
   "outputs": [],
   "source": [
    "class check_data():\n",
    "    def __init__(self,df):\n",
    "        self.df = df\n",
    "        self.wiki_model = Word2Vec.load('../ko/ko.bin')\n",
    "        if platform.system() == 'Windows':\n",
    "            self.font = 'Malgun Gothic'\n",
    "        else:\n",
    "            self.font = 'NanumGothic'\n",
    "        self.df['효능_Morps'] = self.df['효능'].map(lambda x: self.getMorps(x))\n",
    "        self.df['효능_NV'] = self.df['효능_Morps'].map(lambda x: self.getNV(x))\n",
    "        self.df['효능_N'] = self.df['효능_Morps'].map(lambda x: self.getN(x))\n",
    "  \n",
    "    def topn(self,n):\n",
    "        self.df['효능_count_topn_NV']  = self.df['효능_NV'].map(lambda x: self.counter(x,n)) \n",
    "        self.df['효능_count_topn_N']  = self.df['효능_N'].map(lambda x: self.counter(x,n)) \n",
    "\n",
    "    def result(self,idx, top , dis):\n",
    "        energy = ['정열', '활기', '기력', '생기', '활발','--']\n",
    "        recovery = ['낫', '치료', '휴식' ,'극복' , '재활', '--']\n",
    "        cycle = ['운반', '유지', '조절' , '공급' ,'생명', '--']\n",
    "        pury = ['진정' , '맑' , '없애' , '깨끗하', '해소', '--']        \n",
    "        effs_dims_name = ['에너지', '회복', '순환', '정화']\n",
    "        effs_dims =  [energy, recovery, cycle , pury]\n",
    "        sNV = self.df['효능'][idx].split(\" \")[1:]\n",
    "\n",
    "        result = []\n",
    "        for dim in effs_dims:\n",
    "            ab = []\n",
    "            for sim_word in dim:\n",
    "                sub = []\n",
    "                for word in sNV:\n",
    "                    try:\n",
    "                        sub.append(self.wiki_model.wv.similarity(sim_word , word))\n",
    "                    except:\n",
    "                        sub.append(0)\n",
    "                ab.append(sub)\n",
    "                aab = np.array(ab).flatten().tolist()\n",
    "            aab = np.array(sorted(aab,reverse=True))[:top].mean()\n",
    "            result.append(aab)\n",
    "        \n",
    "        if dis == True:\n",
    "            from matplotlib import rc\n",
    "            plt.rc('font', family=self.font)\n",
    "\n",
    "            word = self.df.iloc[idx][0]\n",
    "            std = np.std(result)\n",
    "            \n",
    "            plt.figure()\n",
    "            plt.bar(np.arange(len(result)),result)\n",
    "            plt.title(f'{word}\\'s mapping for top {top} using 유사어')\n",
    "            plt.xticks(np.arange(len(effs_dims_name)), effs_dims_name)\n",
    "            plt.yticks(np.arange(0,1.1,0.1))\n",
    "            plt.show()\n",
    "#            print(f'{word}s std is {std}' )\n",
    "        return result\n",
    "        \n",
    "    def getMorps(self,sent):\n",
    "        return Okt().pos(sent , norm=False , stem = True) \n",
    "\n",
    "    def getNV(self, morps):\n",
    "        stop_words = \"하다 것 등 수 그 이 더욱 대해 예 머 매 내 수도 무엇 모든 이다 때 곧 식 또한 좀 꼭 번 해 과 바로 더욱 논 보이 난 \"\n",
    "        stop_words = set(stop_words.split(' '))\n",
    "\n",
    "        result = []\n",
    "        for item , morp in morps:\n",
    "            if morp == 'Verb' or morp == 'Noun': \n",
    "                result.append(item)\n",
    "        s_result = []\n",
    "        \n",
    "        for word in result:\n",
    "            if word not in stop_words:\n",
    "                s_result.append(word)\n",
    "        return s_result\n",
    "    \n",
    "    def getN(self, morps):\n",
    "        stop_words = \"하다 것 등 수 그 이 더욱 대해 예 머 매 내 수도 무엇 모든 이다 때 곧 식 또한 좀 꼭 번 해 과 바로 더욱 논 보이 난 \"\n",
    "\n",
    "        stop_words = set(stop_words.split(' '))\n",
    "\n",
    "        result = []\n",
    "        for item , morp in morps:\n",
    "            if morp == 'Noun': \n",
    "                result.append(item)\n",
    "        s_result = []\n",
    "        \n",
    "        for word in result:\n",
    "            if word not in stop_words:\n",
    "                s_result.append(word)\n",
    "        s_result = np.unique(s_result)\n",
    "        return s_result\n",
    "\n",
    "    def counter(self,sents, n):\n",
    "        return sorted(collections.Counter(sents),reverse=True)[0:n]\n",
    "\n",
    "    def get_heatmap(self, emotion_idx,figsize):\n",
    "        energy = ['정열', '활기', '기력', '생기', '활발','--']\n",
    "        recovery = ['낫', '치료', '휴식' ,'극복' , '재활', '--']\n",
    "        cycle = ['운반', '유지', '조절' , '공급' ,'생명', '--']\n",
    "        pury = ['진정' , '맑' , '없애' , '깨끗하', '해소', '--']        \n",
    "        effs_dims_name = ['에너지', '회복', '순환', '정화']\n",
    "        all_dims = energy + recovery + cycle + pury\n",
    "        \n",
    "        plt.rc('font', family=self.font)\n",
    "        sents = self.df['효능'][emotion_idx]\n",
    "        \n",
    "        result = []\n",
    "        spl_sents = sents.split(\" \")[1:]\n",
    "        for word in spl_sents:\n",
    "            sub = []\n",
    "            for dim_word in all_dims:\n",
    "                try:\n",
    "                    sub.append(self.wiki_model.wv.similarity(dim_word , word))\n",
    "                except:\n",
    "                    sub.append(0)\n",
    "            result.append(sub)\n",
    "\n",
    "        fig = plt.figure(figsize=figsize)\n",
    "        fig.set_facecolor('white')\n",
    "        em_name = self.df['감정'][emotion_idx]\n",
    "        plt.title(f'{em_name}에서 단어들간의 유사도 확인')\n",
    "        sns.heatmap(result,annot=True)\n",
    "        plt.xticks(np.arange(len(all_dims)),all_dims)\n",
    "        plt.yticks(np.arange(len(spl_sents)),spl_sents)\n",
    "        plt.show()\n",
    "              \n"
   ]
  },
  {
   "cell_type": "code",
   "execution_count": null,
   "metadata": {},
   "outputs": [],
   "source": []
  },
  {
   "cell_type": "code",
   "execution_count": 4,
   "metadata": {},
   "outputs": [
    {
     "data": {
      "text/html": [
       "<div>\n",
       "<style scoped>\n",
       "    .dataframe tbody tr th:only-of-type {\n",
       "        vertical-align: middle;\n",
       "    }\n",
       "\n",
       "    .dataframe tbody tr th {\n",
       "        vertical-align: top;\n",
       "    }\n",
       "\n",
       "    .dataframe thead th {\n",
       "        text-align: right;\n",
       "    }\n",
       "</style>\n",
       "<table border=\"1\" class=\"dataframe\">\n",
       "  <thead>\n",
       "    <tr style=\"text-align: right;\">\n",
       "      <th></th>\n",
       "      <th>감정</th>\n",
       "      <th>효능</th>\n",
       "    </tr>\n",
       "  </thead>\n",
       "  <tbody>\n",
       "    <tr>\n",
       "      <th>0</th>\n",
       "      <td>행복</td>\n",
       "      <td>향유 낙관적 느낌 생각 즐기</td>\n",
       "    </tr>\n",
       "    <tr>\n",
       "      <th>1</th>\n",
       "      <td>우울</td>\n",
       "      <td>행동 도움 생활 치료 명상</td>\n",
       "    </tr>\n",
       "    <tr>\n",
       "      <th>2</th>\n",
       "      <td>슬픔</td>\n",
       "      <td>사랑 도움 가족 시간 활동</td>\n",
       "    </tr>\n",
       "    <tr>\n",
       "      <th>3</th>\n",
       "      <td>열정</td>\n",
       "      <td>상기 집중 노력 몰입 휴식</td>\n",
       "    </tr>\n",
       "    <tr>\n",
       "      <th>4</th>\n",
       "      <td>분노</td>\n",
       "      <td>정지 회피 긍정 마음 호흡</td>\n",
       "    </tr>\n",
       "    <tr>\n",
       "      <th>5</th>\n",
       "      <td>두려움</td>\n",
       "      <td>직면 변화 대화 집중 용기</td>\n",
       "    </tr>\n",
       "  </tbody>\n",
       "</table>\n",
       "</div>"
      ],
      "text/plain": [
       "    감정                효능\n",
       "0   행복   향유 낙관적 느낌 생각 즐기\n",
       "1   우울    행동 도움 생활 치료 명상\n",
       "2   슬픔    사랑 도움 가족 시간 활동\n",
       "3   열정    상기 집중 노력 몰입 휴식\n",
       "4   분노    정지 회피 긍정 마음 호흡\n",
       "5  두려움    직면 변화 대화 집중 용기"
      ]
     },
     "execution_count": 4,
     "metadata": {},
     "output_type": "execute_result"
    }
   ],
   "source": [
    "# 감정 데이터 확인\n",
    "em_data = pd.read_csv(\"../data/emotion_data_hand_craft.csv\")\n",
    "em_data"
   ]
  },
  {
   "cell_type": "markdown",
   "metadata": {},
   "source": [
    "# 수치화 방법\n",
    "각 차원에 유사어 대해서 모든 감정 키워드과 유사도 측정 후  \n",
    "각 차원의 list에서 상위 3개에 대한 평균을 추정치로 사용\n",
    "* 추후 latex을 이용해서 수식화"
   ]
  },
  {
   "cell_type": "markdown",
   "metadata": {},
   "source": []
  },
  {
   "cell_type": "code",
   "execution_count": 5,
   "metadata": {},
   "outputs": [
    {
     "data": {
      "image/png": "[encoded data removed]",
      "text/plain": [
       "<Figure size 432x288 with 1 Axes>"
      ]
     },
     "metadata": {
      "needs_background": "light"
     },
     "output_type": "display_data"
    },
    {
     "data": {
      "image/png": "[encoded data removed]",
      "text/plain": [
       "<Figure size 432x288 with 1 Axes>"
      ]
     },
     "metadata": {
      "needs_background": "light"
     },
     "output_type": "display_data"
    },
    {
     "data": {
      "image/png": "[encoded data removed]",
      "text/plain": [
       "<Figure size 432x288 with 1 Axes>"
      ]
     },
     "metadata": {
      "needs_background": "light"
     },
     "output_type": "display_data"
    },
    {
     "data": {
      "image/png": "[encoded data removed]",
      "text/plain": [
       "<Figure size 432x288 with 1 Axes>"
      ]
     },
     "metadata": {
      "needs_background": "light"
     },
     "output_type": "display_data"
    },
    {
     "data": {
      "image/png": "[encoded data removed]",
      "text/plain": [
       "<Figure size 432x288 with 1 Axes>"
      ]
     },
     "metadata": {
      "needs_background": "light"
     },
     "output_type": "display_data"
    },
    {
     "data": {
      "image/png": "[encoded data removed]",
      "text/plain": [
       "<Figure size 432x288 with 1 Axes>"
      ]
     },
     "metadata": {
      "needs_background": "light"
     },
     "output_type": "display_data"
    }
   ],
   "source": [
    "hXYZ = check_data(em_data)\n",
    "for i in em_data.index:\n",
    "    #hXYZ.get_heatmap(i, (20,4))\n",
    "    hXYZ.result(i,25,True)"
   ]
  },
  {
   "cell_type": "code",
   "execution_count": null,
   "metadata": {},
   "outputs": [],
   "source": []
  }
 ],
 "metadata": {
  "interpreter": {
   "hash": "29452f6d2151aa2870314585b3e91bb7a8843450c46b48401a824fa318bf3597"
  },
  "kernelspec": {
   "display_name": "Python 3.9.7 ('base')",
   "language": "python",
   "name": "python3"
  },
  "language_info": {
   "codemirror_mode": {
    "name": "ipython",
    "version": 3
   },
   "file_extension": ".py",
   "mimetype": "text/x-python",
   "name": "python",
   "nbconvert_exporter": "python",
   "pygments_lexer": "ipython3",
   "version": "3.9.7"
  },
  "orig_nbformat": 4
 },
 "nbformat": 4,
 "nbformat_minor": 2
}
